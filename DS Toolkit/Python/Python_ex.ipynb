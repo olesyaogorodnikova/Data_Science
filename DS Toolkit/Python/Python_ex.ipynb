{
 "cells": [
  {
   "cell_type": "code",
   "execution_count": 22,
   "metadata": {},
   "outputs": [
    {
     "data": {
      "text/plain": [
       "'olesya ogorodnikova'"
      ]
     },
     "execution_count": 22,
     "metadata": {},
     "output_type": "execute_result"
    }
   ],
   "source": [
    "fname = \"olesya\"\n",
    "lname = \"ogorodnikova\"\n",
    "\n",
    "full = fname +\" \"+ lname\n",
    "full"
   ]
  },
  {
   "cell_type": "code",
   "execution_count": 37,
   "metadata": {},
   "outputs": [
    {
     "name": "stdout",
     "output_type": "stream",
     "text": [
      "python is a nice prog language\n"
     ]
    }
   ],
   "source": [
    "l = [\"python\", \"c\", \"java\"]\n",
    "print(\"%s is a nice prog language\" % (l[0]))"
   ]
  },
  {
   "cell_type": "code",
   "execution_count": 75,
   "metadata": {},
   "outputs": [
    {
     "data": {
      "text/plain": [
       "1"
      ]
     },
     "execution_count": 75,
     "metadata": {},
     "output_type": "execute_result"
    }
   ],
   "source": [
    "j = [\"datascience\", \"webdev\", \"engineer\"]\n",
    "j.index(\"webdev\")"
   ]
  },
  {
   "cell_type": "code",
   "execution_count": 77,
   "metadata": {},
   "outputs": [
    {
     "data": {
      "text/plain": [
       "['datascience', 'webdev', 'engineer', 'teacher', 'teacher']"
      ]
     },
     "execution_count": 77,
     "metadata": {},
     "output_type": "execute_result"
    }
   ],
   "source": [
    "j.append(\"teacher\")\n",
    "j"
   ]
  },
  {
   "cell_type": "code",
   "execution_count": 79,
   "metadata": {},
   "outputs": [
    {
     "data": {
      "text/plain": [
       "['worker', 'worker', 'datascience', 'webdev', 'engineer', 'teacher', 'teacher']"
      ]
     },
     "execution_count": 79,
     "metadata": {},
     "output_type": "execute_result"
    }
   ],
   "source": [
    "j.insert(0,\"worker\")\n",
    "j"
   ]
  },
  {
   "cell_type": "code",
   "execution_count": 80,
   "metadata": {},
   "outputs": [
    {
     "data": {
      "text/plain": [
       "['worker', 'worker', 'datascience', 'webdev', 'engineer', 'teacher']"
      ]
     },
     "execution_count": 80,
     "metadata": {},
     "output_type": "execute_result"
    }
   ],
   "source": [
    "j.pop()\n",
    "j"
   ]
  },
  {
   "cell_type": "code",
   "execution_count": 132,
   "metadata": {},
   "outputs": [
    {
     "name": "stdout",
     "output_type": "stream",
     "text": [
      "datascience\n",
      "engineer\n",
      "teacher\n",
      "webdev\n",
      "worker\n",
      "worker\n"
     ]
    }
   ],
   "source": [
    "j.sort()\n",
    "for k in j:\n",
    "    print(k)"
   ]
  },
  {
   "cell_type": "code",
   "execution_count": 103,
   "metadata": {},
   "outputs": [
    {
     "name": "stdout",
     "output_type": "stream",
     "text": [
      "worker\n",
      "worker\n",
      "webdev\n",
      "teacher\n",
      "engineer\n",
      "datascience\n"
     ]
    }
   ],
   "source": [
    "j.reverse()\n",
    "for k in j:\n",
    "    print(k)"
   ]
  },
  {
   "cell_type": "code",
   "execution_count": 112,
   "metadata": {},
   "outputs": [
    {
     "data": {
      "text/plain": [
       "['a', 'b', 'c']"
      ]
     },
     "execution_count": 112,
     "metadata": {},
     "output_type": "execute_result"
    }
   ],
   "source": [
    "al = list(\"abcdefgihj\")\n",
    "al[0:3]"
   ]
  },
  {
   "cell_type": "code",
   "execution_count": 110,
   "metadata": {},
   "outputs": [
    {
     "data": {
      "text/plain": [
       "['e', 'f', 'g']"
      ]
     },
     "execution_count": 110,
     "metadata": {},
     "output_type": "execute_result"
    }
   ],
   "source": [
    "al[4:7]"
   ]
  },
  {
   "cell_type": "code",
   "execution_count": 124,
   "metadata": {},
   "outputs": [
    {
     "data": {
      "text/plain": [
       "['i', 'h', 'j']"
      ]
     },
     "execution_count": 124,
     "metadata": {},
     "output_type": "execute_result"
    }
   ],
   "source": [
    "al[7:]"
   ]
  },
  {
   "cell_type": "code",
   "execution_count": 126,
   "metadata": {},
   "outputs": [
    {
     "name": "stdout",
     "output_type": "stream",
     "text": [
      "[10, 20, 30, 40, 50, 60, 70, 80, 90, 100]\n"
     ]
    }
   ],
   "source": [
    "print([n*10 for n in range(1,11)])\n"
   ]
  },
  {
   "cell_type": "code",
   "execution_count": 129,
   "metadata": {},
   "outputs": [
    {
     "data": {
      "text/plain": [
       "(1, 2, 3, 4, 5, 6, 7, 8, 9, 10)"
      ]
     },
     "execution_count": 129,
     "metadata": {},
     "output_type": "execute_result"
    }
   ],
   "source": [
    "score = tuple(n+1 for n in range(10))\n",
    "score"
   ]
  },
  {
   "cell_type": "code",
   "execution_count": 143,
   "metadata": {},
   "outputs": [
    {
     "name": "stdout",
     "output_type": "stream",
     "text": [
      "the max score is 10\n",
      "A judge can give a gymnast 1 point \n",
      "A judge can give a gymnast 2 points \n",
      "A judge can give a gymnast 3 points \n",
      "A judge can give a gymnast 4 points \n",
      "A judge can give a gymnast 5 points \n",
      "A judge can give a gymnast 6 points \n",
      "A judge can give a gymnast 7 points \n",
      "A judge can give a gymnast 8 points \n",
      "A judge can give a gymnast 9 points \n",
      "A judge can give a gymnast 10 points \n"
     ]
    }
   ],
   "source": [
    "print(\"the max score is %d\" % (max(score)))\n",
    "for s in range(1,len(score)+1):\n",
    "    print(\"A judge can give a gymnast %d point%s \" % (s,(\"s\",\"\")[s==1]))"
   ]
  },
  {
   "cell_type": "code",
   "execution_count": 6,
   "metadata": {},
   "outputs": [
    {
     "name": "stdout",
     "output_type": "stream",
     "text": [
      "1 hours 28 minutes\n"
     ]
    }
   ],
   "source": [
    "num1 = 1493560132\n",
    "num2 = 1493565412\n",
    "dif_min = (num2-num1)/60\n",
    "mins = dif_min%60\n",
    "hrs = dif_min//60\n",
    "print(\"%d hours %d minutes\"%(hrs,mins))"
   ]
  },
  {
   "cell_type": "code",
   "execution_count": null,
   "metadata": {},
   "outputs": [],
   "source": []
  },
  {
   "cell_type": "code",
   "execution_count": 2,
   "metadata": {},
   "outputs": [
    {
     "name": "stdout",
     "output_type": "stream",
     "text": [
      "['There', 'is', 'a', 'palm', 'tree', 'on', 'the', 'island']\n",
      "the word is appears in island\n",
      "the word a appears in palm\n",
      "the word a appears in island\n"
     ]
    }
   ],
   "source": [
    "sentence = \"There is a palm tree on the island\"\n",
    "spl = sentence.split()\n",
    "print(spl)\n",
    "for n in spl:\n",
    "    for nn in spl:\n",
    "        if (n != nn) and (n in nn):\n",
    "            print(\"the word %s appears in %s\" % (n,nn))\n",
    "        "
   ]
  },
  {
   "cell_type": "code",
   "execution_count": 28,
   "metadata": {},
   "outputs": [
    {
     "name": "stdout",
     "output_type": "stream",
     "text": [
      "the word 'is' appears in island\n"
     ]
    }
   ],
   "source": [
    "sentence = \"There is a palm tree on the island\"\n",
    "spl = sentence.split()\n",
    "for k in spl:\n",
    "    if \"is\" in k and \"is\"!=k:\n",
    "        print(\"the word 'is' appears in %s\" % (k))"
   ]
  },
  {
   "cell_type": "code",
   "execution_count": 10,
   "metadata": {},
   "outputs": [
    {
     "name": "stdout",
     "output_type": "stream",
     "text": [
      "listen is anagram to silent\n"
     ]
    }
   ],
   "source": [
    "anag = \"How can you listen if you are not silent\"\n",
    "aspl = anag.split()\n",
    "for n in aspl:\n",
    "    for nn in aspl:\n",
    "        if len(n) == len(nn) and n != nn and sorted(n) == sorted(nn) and n<nn:\n",
    "            print(\"%s is anagram to %s\" % (n, nn))"
   ]
  },
  {
   "cell_type": "code",
   "execution_count": 14,
   "metadata": {},
   "outputs": [
    {
     "data": {
      "text/plain": [
       "True"
      ]
     },
     "execution_count": 14,
     "metadata": {},
     "output_type": "execute_result"
    }
   ],
   "source": [
    "import re\n",
    "def check(s):\n",
    "    regex = '^[\\w\\.-]+@[\\w-]+\\.[a-z]{2,3}$'\n",
    "    return bool(re.match(regex, s))\n",
    "    if (check(email)):\n",
    "        print(email, \"is a valid e-mail address\")\n",
    "    else:\n",
    "        print(email, \"is not a valid e-mail address\")\n",
    "check('nicolas@propulsion-acadamy.co')"
   ]
  },
  {
   "cell_type": "code",
   "execution_count": 3,
   "metadata": {},
   "outputs": [
    {
     "data": {
      "text/plain": [
       "True"
      ]
     },
     "execution_count": 3,
     "metadata": {},
     "output_type": "execute_result"
    }
   ],
   "source": [
    "def password(p):\n",
    "    res = True\n",
    "    if re.search(\"[^a-zA-Z0-9$@#/\\@*]\",p):\n",
    "        raise Exception(\"Invalid charater in the password\")\n",
    "    elif not re.search(\"[a-z]\",p):\n",
    "        res = False\n",
    "    elif not re.search(\"[0-9]\",p):\n",
    "        res = False\n",
    "    elif not re.search(\"[A-Z]\",p):\n",
    "        res = False\n",
    "    elif not re.search(\"[$@#/\\@*]\",p):\n",
    "        res = False\n",
    "    return res\n",
    "password(\"aA1@\")"
   ]
  },
  {
   "cell_type": "code",
   "execution_count": null,
   "metadata": {},
   "outputs": [],
   "source": [
    "import random\n",
    "\n",
    "name = input(\"what is your name?\\n\")\n",
    "print('hi, %s, guess the number from 1 to 10'%(name))\n",
    "a = random.randint(1,10)\n",
    "count = 0\n",
    "while True:\n",
    "    s = int(input('your number\\n'))\n",
    "    count += 1\n",
    "    if s > a:\n",
    "        print('too high, try again')\n",
    "    elif s < a:\n",
    "        print('too low, try again')\n",
    "    else:\n",
    "        print('congrat, you guessed from %d tries'%(count))\n",
    "        break "
   ]
  },
  {
   "cell_type": "code",
   "execution_count": 2,
   "metadata": {},
   "outputs": [
    {
     "name": "stdout",
     "output_type": "stream",
     "text": [
      "{'C': 235, 'T': 248, 'A': 264, 'G': 253}\n"
     ]
    }
   ],
   "source": [
    "import random\n",
    "letters='ACGT'\n",
    "dna = list( ''.join((random.choice(letters) for i in range(1000))))\n",
    "dic = {}\n",
    "for k in dna:\n",
    "    if k in dic:\n",
    "        dic[k] += 1\n",
    "    else:\n",
    "        dic[k] = 1\n",
    "print(dic)"
   ]
  },
  {
   "cell_type": "code",
   "execution_count": 3,
   "metadata": {},
   "outputs": [
    {
     "name": "stdout",
     "output_type": "stream",
     "text": [
      "CCATGATCCAGCCGGACCGGGATTTTCAGCGATCCACTAGAACCCTCCGCCAAGGTCTAGGCGTCATTAGCGGTGGTTCGGGTTACCCCGAGCTAAATGAAAGGAGGACAGAATCGTTGATTGCAGTAAAGGAAAACACCGGTTTTAACAATCAGTAACGACAGGAGAAACAGACTGACCCTTGTATCCCGATTCCTAGTTGGTCAGCTCTAGACCCGGAAATAGCGTAGTTGCCGCATTTCGGCCTACTTGGGATGGCCCGAATTAGCCACCGCATGTTAAAAATCCCATTATATCGAGAACGCGTGTTATATCACGACGTAGTCTATAGAGTGTTGGTGTCATTAGGCCCTGGTAAGCGCGGACTTTCTAATCTTTATGCCGAGCAAGTGCGTCTTTAAGGCCACGTAGTCGACGTCGCCCTACGTTGATGGGAACAATCTAGCTATGGATGAACCCGTCACAAAGCGGGGTTTCTTGCAGTACAAAATAATGTTTTCTAACTGCATCTTAATCATAGCATTCTTCATTCCGACAATAATTGAACCCCAGCCAACACGTTTGACGGCCCGAATGGCGTAAGTGACGGGGTACACTAATAGTGCTGCAAACTACGACTATCTCCTACCAAGCGGCTCCGAGGTCGTGGGGTGTGACCGGGAAGCGATTTTGAGATACATTGTCCTAAGGATATTGTGGCGGTGAAAAGCCAGGATAGCACCCGGCAAGGGCGCTCGAGAGTGCGCACGGAACGGGGTCCCCAACGGACCCTACCAGTGTACGATGCTTTTTACATAAGCCGTCAGATGGCTCAGCTATCTGGAGATCACTCCATCGCCCCACTGTTTATCGACTACCCTACTCGTCCTACGGACTCCCACTGGCGTGAGTTAGATTCGACTTCTGCGTTAATACTTAGACGTGCATGGGGTCACTAGAAATACAACTGACGCTCGAAACTGAGAGCCCCTAAGTAGTTGGCTATACACAGGCCATCTCC\n",
      "CCAUGAUCCAGCCGGACCGGGAUUUUCAGCGAUCCACUAGAACCCUCCGCCAAGGUCUAGGCGUCAUUAGCGGUGGUUCGGGUUACCCCGAGCUAAAUGAAAGGAGGACAGAAUCGUUGAUUGCAGUAAAGGAAAACACCGGUUUUAACAAUCAGUAACGACAGGAGAAACAGACUGACCCUUGUAUCCCGAUUCCUAGUUGGUCAGCUCUAGACCCGGAAAUAGCGUAGUUGCCGCAUUUCGGCCUACUUGGGAUGGCCCGAAUUAGCCACCGCAUGUUAAAAAUCCCAUUAUAUCGAGAACGCGUGUUAUAUCACGACGUAGUCUAUAGAGUGUUGGUGUCAUUAGGCCCUGGUAAGCGCGGACUUUCUAAUCUUUAUGCCGAGCAAGUGCGUCUUUAAGGCCACGUAGUCGACGUCGCCCUACGUUGAUGGGAACAAUCUAGCUAUGGAUGAACCCGUCACAAAGCGGGGUUUCUUGCAGUACAAAAUAAUGUUUUCUAACUGCAUCUUAAUCAUAGCAUUCUUCAUUCCGACAAUAAUUGAACCCCAGCCAACACGUUUGACGGCCCGAAUGGCGUAAGUGACGGGGUACACUAAUAGUGCUGCAAACUACGACUAUCUCCUACCAAGCGGCUCCGAGGUCGUGGGGUGUGACCGGGAAGCGAUUUUGAGAUACAUUGUCCUAAGGAUAUUGUGGCGGUGAAAAGCCAGGAUAGCACCCGGCAAGGGCGCUCGAGAGUGCGCACGGAACGGGGUCCCCAACGGACCCUACCAGUGUACGAUGCUUUUUACAUAAGCCGUCAGAUGGCUCAGCUAUCUGGAGAUCACUCCAUCGCCCCACUGUUUAUCGACUACCCUACUCGUCCUACGGACUCCCACUGGCGUGAGUUAGAUUCGACUUCUGCGUUAAUACUUAGACGUGCAUGGGGUCACUAGAAAUACAACUGACGCUCGAAACUGAGAGCCCCUAAGUAGUUGGCUAUACACAGGCCAUCUCC\n"
     ]
    }
   ],
   "source": [
    "letters='ACGT'\n",
    "t =  ''.join((random.choice(letters) for i in range(1000)))\n",
    "print(t)\n",
    "u = \"\"\n",
    "u = t.replace(\"T\", \"U\") \n",
    "          \n",
    "print(u)\n"
   ]
  },
  {
   "cell_type": "code",
   "execution_count": 8,
   "metadata": {},
   "outputs": [
    {
     "name": "stdout",
     "output_type": "stream",
     "text": [
      "False\n",
      "True\n",
      "True\n",
      "False\n",
      "True\n",
      "False\n"
     ]
    }
   ],
   "source": [
    "def is_array_or_tuple(ol):\n",
    "    return (type(ol) is list) or type(ol) is tuple\n",
    "    \n",
    "print(is_array_or_tuple('hello'))      # False\n",
    "print(is_array_or_tuple(['hello']))    # True\n",
    "print(is_array_or_tuple([2, {}, 10]))  # True\n",
    "print(is_array_or_tuple({'a': 2}))     # False\n",
    "print(is_array_or_tuple((1, 2)))       # True\n",
    "print(is_array_or_tuple(set())) "
   ]
  },
  {
   "cell_type": "code",
   "execution_count": 14,
   "metadata": {},
   "outputs": [
    {
     "name": "stdout",
     "output_type": "stream",
     "text": [
      "False\n",
      "True\n",
      "True\n",
      "False\n",
      "True\n"
     ]
    }
   ],
   "source": [
    "def is_caught(s):\n",
    "    return (s.find('m')- s.find('C')-1) < 3\n",
    "\n",
    "    \n",
    "print(is_caught('C.....m'))   # False\n",
    "print(is_caught('C..m'))      # True\n",
    "print(is_caught('..C..m'))    # True\n",
    "print(is_caught('...C...m'))  # False\n",
    "print(is_caught('C.m'))       # True"
   ]
  },
  {
   "cell_type": "code",
   "execution_count": 10,
   "metadata": {},
   "outputs": [
    {
     "data": {
      "text/plain": [
       "{'Amy': -5.0, 'Bill': 0.0, 'Chris': 5.0}"
      ]
     },
     "execution_count": 10,
     "metadata": {},
     "output_type": "execute_result"
    }
   ],
   "source": [
    "def split_the_bill(group):\n",
    "    avg = sum(group.values())/len(group)\n",
    "    for key, value in group.items():\n",
    "        group[key] = avg - group[key]      \n",
    "    return group\n",
    "group = {\n",
    "    'Amy': 20,\n",
    "    'Bill': 15,\n",
    "    'Chris': 10\n",
    "}\n",
    "\n",
    "split_the_bill(group)\n"
   ]
  },
  {
   "cell_type": "code",
   "execution_count": 11,
   "metadata": {},
   "outputs": [
    {
     "name": "stdout",
     "output_type": "stream",
     "text": [
      "125\n",
      "16\n",
      "5\n",
      "1\n"
     ]
    }
   ],
   "source": [
    "def exp_recursive(a, b):\n",
    "    return (a**b)\n",
    "print(exp_recursive(5, 3))  # 125\n",
    "print(exp_recursive(2, 4))  # 16\n",
    "print(exp_recursive(5, 1))  # 5\n",
    "print(exp_recursive(6, 0))  # 1"
   ]
  },
  {
   "cell_type": "code",
   "execution_count": 12,
   "metadata": {},
   "outputs": [
    {
     "name": "stdout",
     "output_type": "stream",
     "text": [
      "[[0, 5], [1, 3], [2, 2]]\n",
      "[[0, 1]]\n",
      "[[0, 0]]\n"
     ]
    }
   ],
   "source": [
    "def zero_sum(li):\n",
    "    result = []\n",
    "    for el in range(len(li)//2):\n",
    "        for el2 in range(len(li)):\n",
    "            if type(li) is list and (li[el] + li[el2]) == 0:\n",
    "                result.append([el,el2])\n",
    "    return result\n",
    "\n",
    "print(zero_sum([1, 5, 0, -5, 3, -1]))  # [[0, 5], [1, 3], [2, 2]]\n",
    "print(zero_sum([1, -1]))               # [[0, 1]]\n",
    "print(zero_sum([0, 4, 3, 5]))          # [[0, 0]]"
   ]
  },
  {
   "cell_type": "code",
   "execution_count": 13,
   "metadata": {},
   "outputs": [
    {
     "data": {
      "text/plain": [
       "{1: {2: {3: {4: {5: {}}}}}}"
      ]
     },
     "execution_count": 13,
     "metadata": {},
     "output_type": "execute_result"
    }
   ],
   "source": [
    "def new_dict(lu):\n",
    "    ludic = {}\n",
    "    for l in reversed(lu):\n",
    "        ludic = {l:ludic}\n",
    "    return ludic\n",
    "\n",
    "new_dict([1, 2, 3, 4, 5])"
   ]
  },
  {
   "cell_type": "code",
   "execution_count": 15,
   "metadata": {},
   "outputs": [
    {
     "name": "stdout",
     "output_type": "stream",
     "text": [
      "D 100\n",
      "W 200\n",
      "\n",
      "-100\n"
     ]
    }
   ],
   "source": [
    "def bank_account():\n",
    "    sum = 0\n",
    "    while True:\n",
    "        tran = input()\n",
    "        if (tran==\"\"):\n",
    "            return sum        \n",
    "        t = tran.split()\n",
    "        if (t[0] == 'D'):\n",
    "            sum += int(t[1])\n",
    "        elif (t[0] == 'W'):    \n",
    "            sum -= int(t[1])\n",
    "    return sum\n",
    "\n",
    "print(bank_account())"
   ]
  },
  {
   "cell_type": "code",
   "execution_count": 24,
   "metadata": {},
   "outputs": [
    {
     "name": "stdout",
     "output_type": "stream",
     "text": [
      "{11: 121, 582: 338724, 575: 330625, 217: 47089, 423: 178929, 429: 184041, 981: 962361, 696: 484416, 332: 110224, 608: 369664, 670: 448900, 678: 459684, 431: 185761, 185: 34225, 970: 940900, 783: 613089, 272: 73984, 97: 9409, 763: 582169, 626: 391876}\n"
     ]
    }
   ],
   "source": [
    "import random\n",
    "def nt_dictionary(n):\n",
    "    dic = {}\n",
    "    for i in range(n):\n",
    "        key = random.randint(1,1001)\n",
    "        dic[key] = key*key\n",
    "    return dic \n",
    "print(nt_dictionary(20))"
   ]
  },
  {
   "cell_type": "code",
   "execution_count": 41,
   "metadata": {},
   "outputs": [
    {
     "name": "stdout",
     "output_type": "stream",
     "text": [
      "eighty-eight\n"
     ]
    }
   ],
   "source": [
    "num2words1 = { 0:'zero', 1: 'one', 2: 'two', 3: 'three', 4: 'four', 5: 'five', \n",
    "               6: 'six', 7: 'seven', 8: 'eight', 9: 'nine', 10: 'ten', \n",
    "              11: 'eleven', 12: 'twelve', 13: 'thirteen', 14: 'fourteen', \n",
    "              15: 'fifteen', 16: 'sixteen', 17: 'seventeen', 18: 'eighteen', 19: 'nineteen'}\n",
    "num2words2 =  ['twenty', 'thirty', 'forty', 'fifty', 'sixty', 'seventy', 'eighty', 'ninety']\n",
    "\n",
    "# num 0..99\n",
    "def write_number(num): \n",
    "    if 0 <= num < 20:\n",
    "        print(num2words1[num])\n",
    "    elif num < 100:\n",
    "        tens, ones = divmod(num, 10)\n",
    "        if (ones == 0):\n",
    "             print(num2words2[tens - 2])\n",
    "        else:\n",
    "             print(num2words2[tens - 2] + '-' + num2words1[ones])            \n",
    "    else:\n",
    "        print(\"Number out of range\")\n",
    "        \n",
    "write_number(88)"
   ]
  },
  {
   "cell_type": "code",
   "execution_count": 6,
   "metadata": {},
   "outputs": [
    {
     "name": "stdout",
     "output_type": "stream",
     "text": [
      "3 5\n"
     ]
    }
   ],
   "source": [
    "tens, ones = divmod(35, 10)\n",
    "print(tens, ones)"
   ]
  },
  {
   "cell_type": "code",
   "execution_count": 8,
   "metadata": {},
   "outputs": [
    {
     "name": "stdout",
     "output_type": "stream",
     "text": [
      "6 7\n"
     ]
    }
   ],
   "source": [
    "num=67\n",
    "tens= num//10\n",
    "ones = num%10\n",
    "num=67\n",
    "print(tens, ones)"
   ]
  },
  {
   "cell_type": "code",
   "execution_count": 2,
   "metadata": {},
   "outputs": [
    {
     "name": "stdout",
     "output_type": "stream",
     "text": [
      "Reset css and font defaults in:\n",
      "C:\\Users\\ooles\\.jupyter\\custom &\n",
      "C:\\Users\\ooles\\AppData\\Roaming\\jupyter\\nbextensions\n"
     ]
    }
   ],
   "source": [
    "!jt -r"
   ]
  }
 ],
 "metadata": {
  "kernelspec": {
   "display_name": "Python 3",
   "language": "python",
   "name": "python3"
  },
  "language_info": {
   "codemirror_mode": {
    "name": "ipython",
    "version": 3
   },
   "file_extension": ".py",
   "mimetype": "text/x-python",
   "name": "python",
   "nbconvert_exporter": "python",
   "pygments_lexer": "ipython3",
   "version": "3.7.3"
  }
 },
 "nbformat": 4,
 "nbformat_minor": 2
}
