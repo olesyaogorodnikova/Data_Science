{
 "cells": [
  {
   "cell_type": "code",
   "execution_count": 1,
   "metadata": {
    "colab": {
     "base_uri": "https://localhost:8080/",
     "height": 52
    },
    "colab_type": "code",
    "executionInfo": {
     "elapsed": 8640,
     "status": "ok",
     "timestamp": 1579772839912,
     "user": {
      "displayName": "Ogorodnikova Olesya",
      "photoUrl": "https://lh3.googleusercontent.com/a-/AAuE7mDiCsRYhw6dd7XNg6vIYCzxcq11tp3ojoQ3lQ-xmQ=s64",
      "userId": "03663466265113100885"
     },
     "user_tz": -60
    },
    "id": "GR_MR_NOIaOz",
    "outputId": "1171642c-dc9d-4057-9078-cd7af2a68f92"
   },
   "outputs": [
    {
     "name": "stdout",
     "output_type": "stream",
     "text": [
      "TensorFlow 2.x selected.\n",
      "2.1.0-rc1\n"
     ]
    }
   ],
   "source": [
    "from __future__ import absolute_import, division, print_function, unicode_literals\n",
    "\n",
    "#!pip install tensorflow-gpu==2.0.0-beta1\n",
    "\n",
    "try:\n",
    "  %tensorflow_version 2.x\n",
    "except Exception:\n",
    "  pass\n",
    "\n",
    "import tensorflow as tf\n",
    "\n",
    "import matplotlib.pyplot as plt\n",
    "import matplotlib.ticker as ticker\n",
    "from sklearn.model_selection import train_test_split\n",
    "\n",
    "import unicodedata\n",
    "import re\n",
    "import numpy as np\n",
    "import os\n",
    "import io\n",
    "import time\n",
    "print(tf.__version__)"
   ]
  },
  {
   "cell_type": "code",
   "execution_count": 2,
   "metadata": {
    "colab": {
     "base_uri": "https://localhost:8080/",
     "height": 494
    },
    "colab_type": "code",
    "executionInfo": {
     "elapsed": 20666,
     "status": "ok",
     "timestamp": 1579772882980,
     "user": {
      "displayName": "Ogorodnikova Olesya",
      "photoUrl": "https://lh3.googleusercontent.com/a-/AAuE7mDiCsRYhw6dd7XNg6vIYCzxcq11tp3ojoQ3lQ-xmQ=s64",
      "userId": "03663466265113100885"
     },
     "user_tz": -60
    },
    "id": "ks_0d_q8IaPM",
    "outputId": "41ef0914-ae2b-4677-e9f7-e5b971fa1800"
   },
   "outputs": [
    {
     "name": "stdout",
     "output_type": "stream",
     "text": [
      "Go to this URL in a browser: https://accounts.google.com/o/oauth2/auth?client_id=947318989803-6bn6qk8qdgf4n4g3pfee6491hc0brc4i.apps.googleusercontent.com&redirect_uri=urn%3aietf%3awg%3aoauth%3a2.0%3aoob&response_type=code&scope=email%20https%3a%2f%2fwww.googleapis.com%2fauth%2fdocs.test%20https%3a%2f%2fwww.googleapis.com%2fauth%2fdrive%20https%3a%2f%2fwww.googleapis.com%2fauth%2fdrive.photos.readonly%20https%3a%2f%2fwww.googleapis.com%2fauth%2fpeopleapi.readonly\n",
      "\n",
      "Enter your authorization code:\n",
      "··········\n",
      "Mounted at /content/drive\n"
     ]
    },
    {
     "data": {
      "text/plain": [
       "['functions',\n",
       " 'configuration',\n",
       " 'data',\n",
       " 'Copy of imbalanced_data.ipynb',\n",
       " 'Copy of Day1&2_feed_forward_NN_classification_helper.ipynb',\n",
       " 'prediction.csv',\n",
       " 'Day1&2_feed_forward_NN_regression_helper.ipynb',\n",
       " 'day3-4',\n",
       " 'Day3+4_CNN_COPY',\n",
       " 'Untitled0.ipynb',\n",
       " '.ipynb_checkpoints',\n",
       " 'Grad_CAM.ipynb',\n",
       " 'quotes.json',\n",
       " 'training_checkpoints',\n",
       " 'training_checkpoints_lstm',\n",
       " 'Copy of text_generation.ipynb',\n",
       " 'text_generation.ipynb',\n",
       " 'Copy of Day1&2_feed_forward_NN_regression.ipynb',\n",
       " 'df_clean_newwer.pkl',\n",
       " 'functions.py',\n",
       " '30_1_initial_modeling_investigation.ipynb']"
      ]
     },
     "execution_count": 2,
     "metadata": {
      "tags": []
     },
     "output_type": "execute_result"
    }
   ],
   "source": [
    "import tensorflow_datasets as tfds\n",
    "from google.colab import drive\n",
    "drive.mount('/content/drive')\n",
    "os.chdir(\"/content/drive/My Drive/Colab Notebooks\")\n",
    "os.listdir()"
   ]
  },
  {
   "cell_type": "code",
   "execution_count": 0,
   "metadata": {
    "colab": {},
    "colab_type": "code",
    "id": "H5KnGhR4IaPe"
   },
   "outputs": [],
   "source": [
    "import os\n",
    "import re\n",
    "import string\n",
    "import itertools\n",
    "\n",
    "import numpy as np\n",
    "from numpy import mean\n",
    "import pandas as pd\n",
    "import matplotlib.pyplot as plt\n",
    "from pprint import pprint\n",
    "from sklearn import model_selection\n"
   ]
  },
  {
   "cell_type": "code",
   "execution_count": 0,
   "metadata": {
    "colab": {},
    "colab_type": "code",
    "id": "BW60uWvSIaPo"
   },
   "outputs": [],
   "source": [
    "# own functions, placed in functions.py.\n",
    "def make_reduced_df (df, machines_keep):\n",
    "    ''' filters a data frame to contain the data for certain machines.\n",
    "        input: df  = analysis data frame\n",
    "               machines_keep = array of machines to keep\n",
    "        output: df = filtered data frame\n",
    "    '''\n",
    "    df = df[df['machine'].isin(machines_keep)]\n",
    "    return df"
   ]
  },
  {
   "cell_type": "code",
   "execution_count": 0,
   "metadata": {
    "colab": {},
    "colab_type": "code",
    "id": "efGmnfULIaPy"
   },
   "outputs": [],
   "source": [
    "#print(os.getcwd())\n",
    "#os.chdir('/Users/ooles/OneDrive/Desktop/Final_Project/spinningbytes')"
   ]
  },
  {
   "cell_type": "code",
   "execution_count": 0,
   "metadata": {
    "colab": {},
    "colab_type": "code",
    "id": "9YRdTICFIaQA",
    "outputId": "b05a73f7-1d0e-4750-afe4-58c23505a498"
   },
   "outputs": [
    {
     "data": {
      "text/plain": [
       "'C:\\\\Users\\\\ooles\\\\OneDrive\\\\Desktop\\\\Final_Project\\\\spinningbytes'"
      ]
     },
     "execution_count": 58,
     "metadata": {
      "tags": []
     },
     "output_type": "execute_result"
    }
   ],
   "source": [
    "os.getcwd()"
   ]
  },
  {
   "cell_type": "code",
   "execution_count": 5,
   "metadata": {
    "colab": {
     "base_uri": "https://localhost:8080/",
     "height": 34
    },
    "colab_type": "code",
    "executionInfo": {
     "elapsed": 2022,
     "status": "ok",
     "timestamp": 1579772898881,
     "user": {
      "displayName": "Ogorodnikova Olesya",
      "photoUrl": "https://lh3.googleusercontent.com/a-/AAuE7mDiCsRYhw6dd7XNg6vIYCzxcq11tp3ojoQ3lQ-xmQ=s64",
      "userId": "03663466265113100885"
     },
     "user_tz": -60
    },
    "id": "y0v81ZrzIaQL",
    "outputId": "5ede5ddb-9ca1-4987-c975-84b49ea5f2e9"
   },
   "outputs": [
    {
     "data": {
      "text/plain": [
       "(365456, 10)"
      ]
     },
     "execution_count": 5,
     "metadata": {
      "tags": []
     },
     "output_type": "execute_result"
    }
   ],
   "source": [
    "df = pd.read_pickle(\"df_clean_newwer.pkl\")\n",
    "df.shape \n"
   ]
  },
  {
   "cell_type": "code",
   "execution_count": 6,
   "metadata": {
    "colab": {
     "base_uri": "https://localhost:8080/",
     "height": 34
    },
    "colab_type": "code",
    "executionInfo": {
     "elapsed": 609,
     "status": "ok",
     "timestamp": 1579772901872,
     "user": {
      "displayName": "Ogorodnikova Olesya",
      "photoUrl": "https://lh3.googleusercontent.com/a-/AAuE7mDiCsRYhw6dd7XNg6vIYCzxcq11tp3ojoQ3lQ-xmQ=s64",
      "userId": "03663466265113100885"
     },
     "user_tz": -60
    },
    "id": "S4u7tgwDIaQW",
    "outputId": "4f563b24-1780-4dbb-89f8-5af7c6b28277"
   },
   "outputs": [
    {
     "data": {
      "text/plain": [
       "array([16, 15, 14, 13, 12, 11, 10,  9,  8,  7,  6,  5,  4,  3,  2])"
      ]
     },
     "execution_count": 6,
     "metadata": {
      "tags": []
     },
     "output_type": "execute_result"
    }
   ],
   "source": [
    "df['reference.text'].value_counts().unique()"
   ]
  },
  {
   "cell_type": "code",
   "execution_count": 7,
   "metadata": {
    "colab": {
     "base_uri": "https://localhost:8080/",
     "height": 87
    },
    "colab_type": "code",
    "executionInfo": {
     "elapsed": 599,
     "status": "ok",
     "timestamp": 1579772903145,
     "user": {
      "displayName": "Ogorodnikova Olesya",
      "photoUrl": "https://lh3.googleusercontent.com/a-/AAuE7mDiCsRYhw6dd7XNg6vIYCzxcq11tp3ojoQ3lQ-xmQ=s64",
      "userId": "03663466265113100885"
     },
     "user_tz": -60
    },
    "id": "VBwyGWm5IaQl",
    "outputId": "f14e2792-4e62-4219-af0d-8f6f405a52e5"
   },
   "outputs": [
    {
     "data": {
      "text/plain": [
       "array([251, 215, 115,  79,  75,  74,  71,  65,  62,  57,  48,  47,  41,\n",
       "        38,  33,  29,  28,  26,  24,  23,  22,  20,  19,  18,  17,  16,\n",
       "        15,  14,  13,  12,  11,  10,   9,   8,   7,   6,   5,   4,   3,\n",
       "         2,   1])"
      ]
     },
     "execution_count": 7,
     "metadata": {
      "tags": []
     },
     "output_type": "execute_result"
    }
   ],
   "source": [
    "df['hypothesis.text'].value_counts().unique()"
   ]
  },
  {
   "cell_type": "code",
   "execution_count": 8,
   "metadata": {
    "colab": {
     "base_uri": "https://localhost:8080/",
     "height": 383
    },
    "colab_type": "code",
    "executionInfo": {
     "elapsed": 717,
     "status": "ok",
     "timestamp": 1579772904526,
     "user": {
      "displayName": "Ogorodnikova Olesya",
      "photoUrl": "https://lh3.googleusercontent.com/a-/AAuE7mDiCsRYhw6dd7XNg6vIYCzxcq11tp3ojoQ3lQ-xmQ=s64",
      "userId": "03663466265113100885"
     },
     "user_tz": -60
    },
    "id": "k7Jh6DuGIaQv",
    "outputId": "6e7d9f03-1299-499b-d263-a698604e7ad0"
   },
   "outputs": [
    {
     "data": {
      "text/html": [
       "<div>\n",
       "<style scoped>\n",
       "    .dataframe tbody tr th:only-of-type {\n",
       "        vertical-align: middle;\n",
       "    }\n",
       "\n",
       "    .dataframe tbody tr th {\n",
       "        vertical-align: top;\n",
       "    }\n",
       "\n",
       "    .dataframe thead th {\n",
       "        text-align: right;\n",
       "    }\n",
       "</style>\n",
       "<table border=\"1\" class=\"dataframe\">\n",
       "  <thead>\n",
       "    <tr style=\"text-align: right;\">\n",
       "      <th></th>\n",
       "      <th>identifier</th>\n",
       "      <th>speaker_id</th>\n",
       "      <th>file</th>\n",
       "      <th>corpus</th>\n",
       "      <th>configuration</th>\n",
       "      <th>machine</th>\n",
       "      <th>reference.text</th>\n",
       "      <th>hypothesis.text</th>\n",
       "      <th>scoring.wer</th>\n",
       "      <th>recomputed_wer</th>\n",
       "    </tr>\n",
       "  </thead>\n",
       "  <tbody>\n",
       "    <tr>\n",
       "      <th>5</th>\n",
       "      <td>sw3112B-ms98-a-0063</td>\n",
       "      <td>1304</td>\n",
       "      <td>switchboard_segmented__5_ae88.json</td>\n",
       "      <td>switchboard_segmented</td>\n",
       "      <td>5_ae88</td>\n",
       "      <td>5</td>\n",
       "      <td>i i don't listen to in nearly enough it's the ...</td>\n",
       "      <td>i i don't listen to it nearly enough it's the ...</td>\n",
       "      <td>0.166667</td>\n",
       "      <td>0.166667</td>\n",
       "    </tr>\n",
       "    <tr>\n",
       "      <th>1341</th>\n",
       "      <td>sw3753A-ms98-a-0051</td>\n",
       "      <td>1477</td>\n",
       "      <td>switchboard_segmented__5_ae88.json</td>\n",
       "      <td>switchboard_segmented</td>\n",
       "      <td>5_ae88</td>\n",
       "      <td>5</td>\n",
       "      <td>you know i don't know if you saw it was it two...</td>\n",
       "      <td>you know i don't know if you saw it was a two ...</td>\n",
       "      <td>0.190476</td>\n",
       "      <td>0.190476</td>\n",
       "    </tr>\n",
       "    <tr>\n",
       "      <th>1339</th>\n",
       "      <td>sw3921B-ms98-a-0049</td>\n",
       "      <td>1406</td>\n",
       "      <td>switchboard_segmented__5_ae88.json</td>\n",
       "      <td>switchboard_segmented</td>\n",
       "      <td>5_ae88</td>\n",
       "      <td>5</td>\n",
       "      <td>and then the skin just basically scrapes right...</td>\n",
       "      <td>and then the skin just basically scrapes right...</td>\n",
       "      <td>0.055556</td>\n",
       "      <td>0.055556</td>\n",
       "    </tr>\n",
       "    <tr>\n",
       "      <th>1338</th>\n",
       "      <td>sw2763A-ms98-a-0010</td>\n",
       "      <td>1237</td>\n",
       "      <td>switchboard_segmented__5_ae88.json</td>\n",
       "      <td>switchboard_segmented</td>\n",
       "      <td>5_ae88</td>\n",
       "      <td>5</td>\n",
       "      <td>see i don't know what questions to ask because...</td>\n",
       "      <td>see i don't know what questions to ask because...</td>\n",
       "      <td>0.117647</td>\n",
       "      <td>0.117647</td>\n",
       "    </tr>\n",
       "    <tr>\n",
       "      <th>1337</th>\n",
       "      <td>sw3109B-ms98-a-0155</td>\n",
       "      <td>1023</td>\n",
       "      <td>switchboard_segmented__5_ae88.json</td>\n",
       "      <td>switchboard_segmented</td>\n",
       "      <td>5_ae88</td>\n",
       "      <td>5</td>\n",
       "      <td>they have a uh big you know it's a big complex...</td>\n",
       "      <td>they have a a big you know it's a big complexe...</td>\n",
       "      <td>0.040000</td>\n",
       "      <td>0.040000</td>\n",
       "    </tr>\n",
       "  </tbody>\n",
       "</table>\n",
       "</div>"
      ],
      "text/plain": [
       "               identifier speaker_id  ... scoring.wer recomputed_wer\n",
       "5     sw3112B-ms98-a-0063       1304  ...    0.166667       0.166667\n",
       "1341  sw3753A-ms98-a-0051       1477  ...    0.190476       0.190476\n",
       "1339  sw3921B-ms98-a-0049       1406  ...    0.055556       0.055556\n",
       "1338  sw2763A-ms98-a-0010       1237  ...    0.117647       0.117647\n",
       "1337  sw3109B-ms98-a-0155       1023  ...    0.040000       0.040000\n",
       "\n",
       "[5 rows x 10 columns]"
      ]
     },
     "execution_count": 8,
     "metadata": {
      "tags": []
     },
     "output_type": "execute_result"
    }
   ],
   "source": [
    "df.head()"
   ]
  },
  {
   "cell_type": "code",
   "execution_count": 0,
   "metadata": {
    "colab": {},
    "colab_type": "code",
    "id": "b8LE-jTuIaRA"
   },
   "outputs": [],
   "source": []
  },
  {
   "cell_type": "code",
   "execution_count": 9,
   "metadata": {
    "colab": {
     "base_uri": "https://localhost:8080/",
     "height": 228
    },
    "colab_type": "code",
    "executionInfo": {
     "elapsed": 604,
     "status": "ok",
     "timestamp": 1579772909449,
     "user": {
      "displayName": "Ogorodnikova Olesya",
      "photoUrl": "https://lh3.googleusercontent.com/a-/AAuE7mDiCsRYhw6dd7XNg6vIYCzxcq11tp3ojoQ3lQ-xmQ=s64",
      "userId": "03663466265113100885"
     },
     "user_tz": -60
    },
    "id": "A6DA0eWDIaRI",
    "outputId": "244501ce-3efe-442a-976b-a31ff47e0bfe"
   },
   "outputs": [
    {
     "data": {
      "text/plain": [
       "5       i i don't listen to in nearly enough it's the ...\n",
       "1341    you know i don't know if you saw it was it two...\n",
       "1339    and then the skin just basically scrapes right...\n",
       "1338    see i don't know what questions to ask because...\n",
       "1337    they have a uh big you know it's a big complex...\n",
       "                              ...                        \n",
       "2547    but that that time is minuscule compared to wh...\n",
       "2540    i enjoyed the book quite a bit too so that's t...\n",
       "2535    uh up to a points things seemed to be working ...\n",
       "2587    sure it's real easy to spend other people's mo...\n",
       "3168    is is you know is good for both of them i know...\n",
       "Name: reference.text, Length: 365456, dtype: object"
      ]
     },
     "execution_count": 9,
     "metadata": {
      "tags": []
     },
     "output_type": "execute_result"
    }
   ],
   "source": [
    "df['reference.text']\n"
   ]
  },
  {
   "cell_type": "code",
   "execution_count": 0,
   "metadata": {
    "colab": {},
    "colab_type": "code",
    "id": "ppJNSLg1IaRR"
   },
   "outputs": [],
   "source": [
    "#machines_keep = ['2', '3', '4', '5']\n",
    "machines_keep = ['5']\n",
    "df = make_reduced_df(df, machines_keep)\n",
    "\n",
    "df2=df.copy()\n",
    "#df = split_hypothesis (df)"
   ]
  },
  {
   "cell_type": "code",
   "execution_count": 11,
   "metadata": {
    "colab": {
     "base_uri": "https://localhost:8080/",
     "height": 87
    },
    "colab_type": "code",
    "executionInfo": {
     "elapsed": 619,
     "status": "ok",
     "timestamp": 1579772917238,
     "user": {
      "displayName": "Ogorodnikova Olesya",
      "photoUrl": "https://lh3.googleusercontent.com/a-/AAuE7mDiCsRYhw6dd7XNg6vIYCzxcq11tp3ojoQ3lQ-xmQ=s64",
      "userId": "03663466265113100885"
     },
     "user_tz": -60
    },
    "id": "O9Y0YuxKIaRe",
    "outputId": "c3bc971b-c610-408a-d725-8f59967c4c0f"
   },
   "outputs": [
    {
     "data": {
      "text/plain": [
       "Index(['identifier', 'speaker_id', 'file', 'corpus', 'configuration',\n",
       "       'machine', 'reference.text', 'hypothesis.text', 'scoring.wer',\n",
       "       'recomputed_wer'],\n",
       "      dtype='object')"
      ]
     },
     "execution_count": 11,
     "metadata": {
      "tags": []
     },
     "output_type": "execute_result"
    }
   ],
   "source": [
    "df2.columns"
   ]
  },
  {
   "cell_type": "code",
   "execution_count": 12,
   "metadata": {
    "colab": {
     "base_uri": "https://localhost:8080/",
     "height": 383
    },
    "colab_type": "code",
    "executionInfo": {
     "elapsed": 573,
     "status": "ok",
     "timestamp": 1579772918781,
     "user": {
      "displayName": "Ogorodnikova Olesya",
      "photoUrl": "https://lh3.googleusercontent.com/a-/AAuE7mDiCsRYhw6dd7XNg6vIYCzxcq11tp3ojoQ3lQ-xmQ=s64",
      "userId": "03663466265113100885"
     },
     "user_tz": -60
    },
    "id": "0gXYvX3IIaRn",
    "outputId": "dcdfaa82-488a-43a7-ce55-ce85e037cd76"
   },
   "outputs": [
    {
     "data": {
      "text/html": [
       "<div>\n",
       "<style scoped>\n",
       "    .dataframe tbody tr th:only-of-type {\n",
       "        vertical-align: middle;\n",
       "    }\n",
       "\n",
       "    .dataframe tbody tr th {\n",
       "        vertical-align: top;\n",
       "    }\n",
       "\n",
       "    .dataframe thead th {\n",
       "        text-align: right;\n",
       "    }\n",
       "</style>\n",
       "<table border=\"1\" class=\"dataframe\">\n",
       "  <thead>\n",
       "    <tr style=\"text-align: right;\">\n",
       "      <th></th>\n",
       "      <th>identifier</th>\n",
       "      <th>speaker_id</th>\n",
       "      <th>file</th>\n",
       "      <th>corpus</th>\n",
       "      <th>configuration</th>\n",
       "      <th>machine</th>\n",
       "      <th>reference.text</th>\n",
       "      <th>hypothesis.text</th>\n",
       "      <th>scoring.wer</th>\n",
       "      <th>recomputed_wer</th>\n",
       "    </tr>\n",
       "  </thead>\n",
       "  <tbody>\n",
       "    <tr>\n",
       "      <th>5</th>\n",
       "      <td>sw3112B-ms98-a-0063</td>\n",
       "      <td>1304</td>\n",
       "      <td>switchboard_segmented__5_ae88.json</td>\n",
       "      <td>switchboard_segmented</td>\n",
       "      <td>5_ae88</td>\n",
       "      <td>5</td>\n",
       "      <td>i i don't listen to in nearly enough it's the ...</td>\n",
       "      <td>i i don't listen to it nearly enough it's the ...</td>\n",
       "      <td>0.166667</td>\n",
       "      <td>0.166667</td>\n",
       "    </tr>\n",
       "    <tr>\n",
       "      <th>1341</th>\n",
       "      <td>sw3753A-ms98-a-0051</td>\n",
       "      <td>1477</td>\n",
       "      <td>switchboard_segmented__5_ae88.json</td>\n",
       "      <td>switchboard_segmented</td>\n",
       "      <td>5_ae88</td>\n",
       "      <td>5</td>\n",
       "      <td>you know i don't know if you saw it was it two...</td>\n",
       "      <td>you know i don't know if you saw it was a two ...</td>\n",
       "      <td>0.190476</td>\n",
       "      <td>0.190476</td>\n",
       "    </tr>\n",
       "    <tr>\n",
       "      <th>1339</th>\n",
       "      <td>sw3921B-ms98-a-0049</td>\n",
       "      <td>1406</td>\n",
       "      <td>switchboard_segmented__5_ae88.json</td>\n",
       "      <td>switchboard_segmented</td>\n",
       "      <td>5_ae88</td>\n",
       "      <td>5</td>\n",
       "      <td>and then the skin just basically scrapes right...</td>\n",
       "      <td>and then the skin just basically scrapes right...</td>\n",
       "      <td>0.055556</td>\n",
       "      <td>0.055556</td>\n",
       "    </tr>\n",
       "    <tr>\n",
       "      <th>1338</th>\n",
       "      <td>sw2763A-ms98-a-0010</td>\n",
       "      <td>1237</td>\n",
       "      <td>switchboard_segmented__5_ae88.json</td>\n",
       "      <td>switchboard_segmented</td>\n",
       "      <td>5_ae88</td>\n",
       "      <td>5</td>\n",
       "      <td>see i don't know what questions to ask because...</td>\n",
       "      <td>see i don't know what questions to ask because...</td>\n",
       "      <td>0.117647</td>\n",
       "      <td>0.117647</td>\n",
       "    </tr>\n",
       "    <tr>\n",
       "      <th>1337</th>\n",
       "      <td>sw3109B-ms98-a-0155</td>\n",
       "      <td>1023</td>\n",
       "      <td>switchboard_segmented__5_ae88.json</td>\n",
       "      <td>switchboard_segmented</td>\n",
       "      <td>5_ae88</td>\n",
       "      <td>5</td>\n",
       "      <td>they have a uh big you know it's a big complex...</td>\n",
       "      <td>they have a a big you know it's a big complexe...</td>\n",
       "      <td>0.040000</td>\n",
       "      <td>0.040000</td>\n",
       "    </tr>\n",
       "  </tbody>\n",
       "</table>\n",
       "</div>"
      ],
      "text/plain": [
       "               identifier speaker_id  ... scoring.wer recomputed_wer\n",
       "5     sw3112B-ms98-a-0063       1304  ...    0.166667       0.166667\n",
       "1341  sw3753A-ms98-a-0051       1477  ...    0.190476       0.190476\n",
       "1339  sw3921B-ms98-a-0049       1406  ...    0.055556       0.055556\n",
       "1338  sw2763A-ms98-a-0010       1237  ...    0.117647       0.117647\n",
       "1337  sw3109B-ms98-a-0155       1023  ...    0.040000       0.040000\n",
       "\n",
       "[5 rows x 10 columns]"
      ]
     },
     "execution_count": 12,
     "metadata": {
      "tags": []
     },
     "output_type": "execute_result"
    }
   ],
   "source": [
    "df2.head()"
   ]
  },
  {
   "cell_type": "code",
   "execution_count": 0,
   "metadata": {
    "colab": {},
    "colab_type": "code",
    "id": "1SHkZMJXIaRw"
   },
   "outputs": [],
   "source": [
    "#df2 = split_hypothesis (df2)"
   ]
  },
  {
   "cell_type": "code",
   "execution_count": 25,
   "metadata": {
    "colab": {
     "base_uri": "https://localhost:8080/",
     "height": 228
    },
    "colab_type": "code",
    "executionInfo": {
     "elapsed": 614,
     "status": "ok",
     "timestamp": 1579773086905,
     "user": {
      "displayName": "Ogorodnikova Olesya",
      "photoUrl": "https://lh3.googleusercontent.com/a-/AAuE7mDiCsRYhw6dd7XNg6vIYCzxcq11tp3ojoQ3lQ-xmQ=s64",
      "userId": "03663466265113100885"
     },
     "user_tz": -60
    },
    "id": "3pxN5zVqIaR5",
    "outputId": "c22be6a2-bbe2-49af-dca8-7e0e364925cb",
    "scrolled": true
   },
   "outputs": [
    {
     "data": {
      "text/plain": [
       "5       i i don't listen to in nearly enough it's the ...\n",
       "1341    you know i don't know if you saw it was it two...\n",
       "1339    and then the skin just basically scrapes right...\n",
       "1338    see i don't know what questions to ask because...\n",
       "1337    they have a uh big you know it's a big complex...\n",
       "                              ...                        \n",
       "424     in novels the hero has often pushed his meals ...\n",
       "421            we moderns however see the absurdity of it\n",
       "426     lady larkspur starts suddenly and turns toward...\n",
       "427     then is the time to introduce a meal on the stage\n",
       "425            enter hamlet with his favourite boar hound\n",
       "Name: reference.text, Length: 46761, dtype: object"
      ]
     },
     "execution_count": 25,
     "metadata": {
      "tags": []
     },
     "output_type": "execute_result"
    }
   ],
   "source": [
    "df2[\"reference.text\"]"
   ]
  },
  {
   "cell_type": "code",
   "execution_count": 0,
   "metadata": {
    "colab": {},
    "colab_type": "code",
    "id": "mF0IeQuzIaSE"
   },
   "outputs": [],
   "source": [
    "a = []\n",
    "for text in df2[\"reference.text\"]:\n",
    "    a.append(tokenizer_en.encode(text))"
   ]
  },
  {
   "cell_type": "code",
   "execution_count": 0,
   "metadata": {
    "colab": {},
    "colab_type": "code",
    "id": "AHpuvPB_IaSM"
   },
   "outputs": [],
   "source": [
    "tensor = tf.keras.preprocessing.sequence.pad_sequences(a,\n",
    "                                                         padding='post')"
   ]
  },
  {
   "cell_type": "code",
   "execution_count": 21,
   "metadata": {
    "colab": {
     "base_uri": "https://localhost:8080/",
     "height": 34
    },
    "colab_type": "code",
    "executionInfo": {
     "elapsed": 551,
     "status": "ok",
     "timestamp": 1579769489953,
     "user": {
      "displayName": "Ogorodnikova Olesya",
      "photoUrl": "https://lh3.googleusercontent.com/a-/AAuE7mDiCsRYhw6dd7XNg6vIYCzxcq11tp3ojoQ3lQ-xmQ=s64",
      "userId": "03663466265113100885"
     },
     "user_tz": -60
    },
    "id": "sxwD_wIfIaSV",
    "outputId": "4ef2e41d-2cf5-4aa8-e9b6-76f3c1761bce"
   },
   "outputs": [
    {
     "data": {
      "text/plain": [
       "(46761, 192)"
      ]
     },
     "execution_count": 21,
     "metadata": {
      "tags": []
     },
     "output_type": "execute_result"
    }
   ],
   "source": [
    "tensor.shape"
   ]
  },
  {
   "cell_type": "code",
   "execution_count": 0,
   "metadata": {
    "colab": {},
    "colab_type": "code",
    "id": "rYmJDm3tIaSl"
   },
   "outputs": [],
   "source": [
    "tokenizer_en = tfds.features.text.SubwordTextEncoder.build_from_corpus(\n",
    "    (text for text in df2[\"reference.text\"]), target_vocab_size=2**13)"
   ]
  },
  {
   "cell_type": "code",
   "execution_count": 16,
   "metadata": {
    "colab": {
     "base_uri": "https://localhost:8080/",
     "height": 52
    },
    "colab_type": "code",
    "executionInfo": {
     "elapsed": 8694,
     "status": "ok",
     "timestamp": 1579772958023,
     "user": {
      "displayName": "Ogorodnikova Olesya",
      "photoUrl": "https://lh3.googleusercontent.com/a-/AAuE7mDiCsRYhw6dd7XNg6vIYCzxcq11tp3ojoQ3lQ-xmQ=s64",
      "userId": "03663466265113100885"
     },
     "user_tz": -60
    },
    "id": "BYvm8zTJIaTH",
    "outputId": "4e68ebef-f914-4f42-8e39-ab3a4e6ef1ea"
   },
   "outputs": [
    {
     "name": "stdout",
     "output_type": "stream",
     "text": [
      "Tokenized string is [8287, 1696, 7046, 3536, 171, 12, 3063, 1390, 8249]\n",
      "The original string: Transformer is awesome.\n"
     ]
    }
   ],
   "source": [
    "sample_string = 'Transformer is awesome.'\n",
    "\n",
    "tokenized_string = tokenizer_en.encode(sample_string)\n",
    "print ('Tokenized string is {}'.format(tokenized_string))\n",
    "\n",
    "original_string = tokenizer_en.decode(tokenized_string)\n",
    "print ('The original string: {}'.format(original_string))\n",
    "\n",
    "assert original_string == sample_string"
   ]
  },
  {
   "cell_type": "code",
   "execution_count": 17,
   "metadata": {
    "colab": {
     "base_uri": "https://localhost:8080/",
     "height": 175
    },
    "colab_type": "code",
    "executionInfo": {
     "elapsed": 6794,
     "status": "ok",
     "timestamp": 1579772958024,
     "user": {
      "displayName": "Ogorodnikova Olesya",
      "photoUrl": "https://lh3.googleusercontent.com/a-/AAuE7mDiCsRYhw6dd7XNg6vIYCzxcq11tp3ojoQ3lQ-xmQ=s64",
      "userId": "03663466265113100885"
     },
     "user_tz": -60
    },
    "id": "Ncv7gp04IaTQ",
    "outputId": "bac6ab06-183c-4716-d57f-51566209a9cc"
   },
   "outputs": [
    {
     "name": "stdout",
     "output_type": "stream",
     "text": [
      "8287 ----> T\n",
      "1696 ----> ran\n",
      "7046 ----> sf\n",
      "3536 ----> orm\n",
      "171 ----> er \n",
      "12 ----> is \n",
      "3063 ----> awe\n",
      "1390 ----> some\n",
      "8249 ----> .\n"
     ]
    }
   ],
   "source": [
    "for ts in tokenized_string:\n",
    "  print ('{} ----> {}'.format(ts, tokenizer_en.decode([ts])))"
   ]
  },
  {
   "cell_type": "code",
   "execution_count": 28,
   "metadata": {
    "colab": {
     "base_uri": "https://localhost:8080/",
     "height": 34
    },
    "colab_type": "code",
    "executionInfo": {
     "elapsed": 556,
     "status": "ok",
     "timestamp": 1579773108367,
     "user": {
      "displayName": "Ogorodnikova Olesya",
      "photoUrl": "https://lh3.googleusercontent.com/a-/AAuE7mDiCsRYhw6dd7XNg6vIYCzxcq11tp3ojoQ3lQ-xmQ=s64",
      "userId": "03663466265113100885"
     },
     "user_tz": -60
    },
    "id": "npuS9jBGIaTc",
    "outputId": "51df7c55-0596-4f07-e17d-ac97da683f4f"
   },
   "outputs": [
    {
     "data": {
      "text/plain": [
       "8459"
      ]
     },
     "execution_count": 28,
     "metadata": {
      "tags": []
     },
     "output_type": "execute_result"
    }
   ],
   "source": [
    "tokenizer_en.vocab_size"
   ]
  },
  {
   "cell_type": "code",
   "execution_count": 0,
   "metadata": {
    "colab": {},
    "colab_type": "code",
    "id": "H6EwDOaSIaTl"
   },
   "outputs": [],
   "source": [
    "def tokenize(dataframe_column):\n",
    "   \n",
    "    a = []\n",
    "    for text in dataframe_column:\n",
    "        a.append(tokenizer_en.encode(text))\n",
    "    \n",
    "    tensor = tf.keras.preprocessing.sequence.pad_sequences(a,\n",
    "                                                         padding='post')\n",
    "    \n",
    "    return tensor"
   ]
  },
  {
   "cell_type": "code",
   "execution_count": 29,
   "metadata": {
    "colab": {
     "base_uri": "https://localhost:8080/",
     "height": 140
    },
    "colab_type": "code",
    "executionInfo": {
     "elapsed": 2196,
     "status": "ok",
     "timestamp": 1579773114398,
     "user": {
      "displayName": "Ogorodnikova Olesya",
      "photoUrl": "https://lh3.googleusercontent.com/a-/AAuE7mDiCsRYhw6dd7XNg6vIYCzxcq11tp3ojoQ3lQ-xmQ=s64",
      "userId": "03663466265113100885"
     },
     "user_tz": -60
    },
    "id": "Hy3s36TXIaTt",
    "outputId": "c2b6eed4-1f4b-4f6c-8796-c306e0bde5b1",
    "scrolled": true
   },
   "outputs": [
    {
     "data": {
      "text/plain": [
       "array([[   7,    7,   55, ...,    0,    0,    0],\n",
       "       [   8,   30,    7, ...,    0,    0,    0],\n",
       "       [   2,   53,    1, ...,    0,    0,    0],\n",
       "       ...,\n",
       "       [1348, 2316, 6230, ...,    0,    0,    0],\n",
       "       [  53,   12,    1, ...,    0,    0,    0],\n",
       "       [3004, 7628,   25, ...,    0,    0,    0]], dtype=int32)"
      ]
     },
     "execution_count": 29,
     "metadata": {
      "tags": []
     },
     "output_type": "execute_result"
    }
   ],
   "source": [
    "tokenize(df2[\"reference.text\"])"
   ]
  },
  {
   "cell_type": "code",
   "execution_count": 30,
   "metadata": {
    "colab": {
     "base_uri": "https://localhost:8080/",
     "height": 140
    },
    "colab_type": "code",
    "executionInfo": {
     "elapsed": 2219,
     "status": "ok",
     "timestamp": 1579773117845,
     "user": {
      "displayName": "Ogorodnikova Olesya",
      "photoUrl": "https://lh3.googleusercontent.com/a-/AAuE7mDiCsRYhw6dd7XNg6vIYCzxcq11tp3ojoQ3lQ-xmQ=s64",
      "userId": "03663466265113100885"
     },
     "user_tz": -60
    },
    "id": "kTvSMi5KIaT3",
    "outputId": "15caf4fd-7668-479b-916f-29b6d51cc001",
    "scrolled": true
   },
   "outputs": [
    {
     "data": {
      "text/plain": [
       "array([[   7,    7,   55, ...,    0,    0,    0],\n",
       "       [   8,   30,    7, ...,    0,    0,    0],\n",
       "       [   2,   53,    1, ...,    0,    0,    0],\n",
       "       ...,\n",
       "       [1348, 2316,  381, ...,    0,    0,    0],\n",
       "       [  53,   12,    1, ...,    0,    0,    0],\n",
       "       [1076, 8235, 7628, ...,    0,    0,    0]], dtype=int32)"
      ]
     },
     "execution_count": 30,
     "metadata": {
      "tags": []
     },
     "output_type": "execute_result"
    }
   ],
   "source": [
    "tokenize(df2[\"hypothesis.text\"])"
   ]
  },
  {
   "cell_type": "code",
   "execution_count": 31,
   "metadata": {
    "colab": {
     "base_uri": "https://localhost:8080/",
     "height": 34
    },
    "colab_type": "code",
    "executionInfo": {
     "elapsed": 2093,
     "status": "ok",
     "timestamp": 1579773121464,
     "user": {
      "displayName": "Ogorodnikova Olesya",
      "photoUrl": "https://lh3.googleusercontent.com/a-/AAuE7mDiCsRYhw6dd7XNg6vIYCzxcq11tp3ojoQ3lQ-xmQ=s64",
      "userId": "03663466265113100885"
     },
     "user_tz": -60
    },
    "id": "E29G4fStIaUC",
    "outputId": "0308424e-27e1-439e-afc8-32eea14f83ea"
   },
   "outputs": [
    {
     "data": {
      "text/plain": [
       "(46761, 192)"
      ]
     },
     "execution_count": 31,
     "metadata": {
      "tags": []
     },
     "output_type": "execute_result"
    }
   ],
   "source": [
    "target_tensor = tokenize(df2['reference.text'])\n",
    "target_tensor.shape"
   ]
  },
  {
   "cell_type": "code",
   "execution_count": 0,
   "metadata": {
    "colab": {},
    "colab_type": "code",
    "id": "XJpSuyCLIaUO"
   },
   "outputs": [],
   "source": [
    "input_tensor = tokenize(df2['hypothesis.text'])"
   ]
  },
  {
   "cell_type": "code",
   "execution_count": 33,
   "metadata": {
    "colab": {
     "base_uri": "https://localhost:8080/",
     "height": 34
    },
    "colab_type": "code",
    "executionInfo": {
     "elapsed": 578,
     "status": "ok",
     "timestamp": 1579773126409,
     "user": {
      "displayName": "Ogorodnikova Olesya",
      "photoUrl": "https://lh3.googleusercontent.com/a-/AAuE7mDiCsRYhw6dd7XNg6vIYCzxcq11tp3ojoQ3lQ-xmQ=s64",
      "userId": "03663466265113100885"
     },
     "user_tz": -60
    },
    "id": "mBiIsCYdIaUY",
    "outputId": "8212dee1-020e-463c-9f9b-af9663d6a935"
   },
   "outputs": [
    {
     "data": {
      "text/plain": [
       "(46761, 180)"
      ]
     },
     "execution_count": 33,
     "metadata": {
      "tags": []
     },
     "output_type": "execute_result"
    }
   ],
   "source": [
    "input_tensor.shape"
   ]
  },
  {
   "cell_type": "code",
   "execution_count": 34,
   "metadata": {
    "colab": {
     "base_uri": "https://localhost:8080/",
     "height": 34
    },
    "colab_type": "code",
    "executionInfo": {
     "elapsed": 558,
     "status": "ok",
     "timestamp": 1579773128787,
     "user": {
      "displayName": "Ogorodnikova Olesya",
      "photoUrl": "https://lh3.googleusercontent.com/a-/AAuE7mDiCsRYhw6dd7XNg6vIYCzxcq11tp3ojoQ3lQ-xmQ=s64",
      "userId": "03663466265113100885"
     },
     "user_tz": -60
    },
    "id": "eSCeZeKFIaUk",
    "outputId": "2645f6fc-65ee-45ca-bff6-436fc44a6086"
   },
   "outputs": [
    {
     "name": "stdout",
     "output_type": "stream",
     "text": [
      "37408 37408 9353 9353\n"
     ]
    }
   ],
   "source": [
    "# Creating training and validation sets using an 80-20 split\n",
    "input_tensor_train, input_tensor_val, target_tensor_train, target_tensor_val = model_selection.train_test_split(input_tensor, target_tensor, test_size=0.2)\n",
    "\n",
    "# Show length\n",
    "print(len(input_tensor_train), len(target_tensor_train), len(input_tensor_val), len(target_tensor_val))"
   ]
  },
  {
   "cell_type": "code",
   "execution_count": 0,
   "metadata": {
    "colab": {},
    "colab_type": "code",
    "id": "v_owGKiHIaUr"
   },
   "outputs": [],
   "source": [
    "#BUFFER_SIZE = 10000\n",
    "#BATCH_SIZE = 64"
   ]
  },
  {
   "cell_type": "code",
   "execution_count": 0,
   "metadata": {
    "colab": {},
    "colab_type": "code",
    "id": "ZVSbG0VpIaU2"
   },
   "outputs": [],
   "source": [
    "#train_dataset = input_tensor_train.shuffle(BUFFER_SIZE)\n",
    "#train_dataset = input_tensor_train.padded_batch(BATCH_SIZE, train_dataset.output_shapes)\n",
    "\n",
    "#test_dataset = input_tensor_val.padded_batch(BATCH_SIZE, input_tensor_val.output_shapes)\n"
   ]
  },
  {
   "cell_type": "code",
   "execution_count": 0,
   "metadata": {
    "colab": {},
    "colab_type": "code",
    "id": "ts4zQfszIaU_"
   },
   "outputs": [],
   "source": [
    "# Have a look at index to word mapping\n",
    "\n",
    "def convert(text, tensor):\n",
    "    for t in tensor:\n",
    "        if t!=0:\n",
    "            print (\"%d ----> %s\" % (t, text.index_word[t]))"
   ]
  },
  {
   "cell_type": "code",
   "execution_count": 0,
   "metadata": {
    "colab": {},
    "colab_type": "code",
    "id": "brwVHc-yIaVG"
   },
   "outputs": [],
   "source": [
    "model = tf.keras.Sequential([\n",
    "    tf.keras.layers.Embedding(tokenizer_en.vocab_size, 64),\n",
    "    tf.keras.layers.Bidirectional(tf.keras.layers.LSTM(128)),\n",
    "\n",
    "    tf.keras.layers.Dense(64, activation='relu'),\n",
    "    tf.keras.layers.Dense(tensor.shape[1])\n",
    "])\n"
   ]
  },
  {
   "cell_type": "code",
   "execution_count": 36,
   "metadata": {
    "colab": {
     "base_uri": "https://localhost:8080/",
     "height": 34
    },
    "colab_type": "code",
    "executionInfo": {
     "elapsed": 539,
     "status": "ok",
     "timestamp": 1579773148576,
     "user": {
      "displayName": "Ogorodnikova Olesya",
      "photoUrl": "https://lh3.googleusercontent.com/a-/AAuE7mDiCsRYhw6dd7XNg6vIYCzxcq11tp3ojoQ3lQ-xmQ=s64",
      "userId": "03663466265113100885"
     },
     "user_tz": -60
    },
    "id": "NE2kL8M9FUoF",
    "outputId": "41a39e34-a09c-4261-92da-fcc630bf9bc5"
   },
   "outputs": [
    {
     "data": {
      "text/plain": [
       "192"
      ]
     },
     "execution_count": 36,
     "metadata": {
      "tags": []
     },
     "output_type": "execute_result"
    }
   ],
   "source": [
    "tensor.shape[1]"
   ]
  },
  {
   "cell_type": "code",
   "execution_count": 212,
   "metadata": {
    "colab": {
     "base_uri": "https://localhost:8080/",
     "height": 34
    },
    "colab_type": "code",
    "executionInfo": {
     "elapsed": 595,
     "status": "ok",
     "timestamp": 1579731780722,
     "user": {
      "displayName": "Ogorodnikova Olesya",
      "photoUrl": "https://lh3.googleusercontent.com/a-/AAuE7mDiCsRYhw6dd7XNg6vIYCzxcq11tp3ojoQ3lQ-xmQ=s64",
      "userId": "03663466265113100885"
     },
     "user_tz": -60
    },
    "id": "oA9BgyyhVizx",
    "outputId": "02902946-8d12-4272-bdc5-319beba5f27e"
   },
   "outputs": [
    {
     "data": {
      "text/plain": [
       "656.280701754386"
      ]
     },
     "execution_count": 212,
     "metadata": {
      "tags": []
     },
     "output_type": "execute_result"
    }
   ],
   "source": [
    "len(input_tensor_train)/57"
   ]
  },
  {
   "cell_type": "code",
   "execution_count": 0,
   "metadata": {
    "colab": {},
    "colab_type": "code",
    "id": "bccmSkoAIaVS"
   },
   "outputs": [],
   "source": [
    "model.compile(loss='binary_crossentropy',\n",
    "              optimizer=tf.keras.optimizers.Adam(1e-4),\n",
    "              metrics=['accuracy'])"
   ]
  },
  {
   "cell_type": "code",
   "execution_count": 38,
   "metadata": {
    "colab": {
     "base_uri": "https://localhost:8080/",
     "height": 406
    },
    "colab_type": "code",
    "executionInfo": {
     "elapsed": 293797,
     "status": "ok",
     "timestamp": 1579773451452,
     "user": {
      "displayName": "Ogorodnikova Olesya",
      "photoUrl": "https://lh3.googleusercontent.com/a-/AAuE7mDiCsRYhw6dd7XNg6vIYCzxcq11tp3ojoQ3lQ-xmQ=s64",
      "userId": "03663466265113100885"
     },
     "user_tz": -60
    },
    "id": "kPNaCQymIaVi",
    "outputId": "7d97f2fe-ea6b-49d9-a062-1de3f0e87a20"
   },
   "outputs": [
    {
     "name": "stdout",
     "output_type": "stream",
     "text": [
      "Train on 37408 samples, validate on 9353 samples\n",
      "Epoch 1/10\n",
      "37408/37408 [==============================] - 37s 977us/sample - loss: -476.1345 - accuracy: 0.6624 - val_loss: -72.5357 - val_accuracy: 0.5990\n",
      "Epoch 2/10\n",
      "37408/37408 [==============================] - 29s 764us/sample - loss: -719.3064 - accuracy: 0.5933 - val_loss: -72.7240 - val_accuracy: 0.5938\n",
      "Epoch 3/10\n",
      "37408/37408 [==============================] - 28s 761us/sample - loss: -719.6881 - accuracy: 0.5922 - val_loss: -72.7233 - val_accuracy: 0.5938\n",
      "Epoch 4/10\n",
      "37408/37408 [==============================] - 28s 762us/sample - loss: -719.6881 - accuracy: 0.5924 - val_loss: -72.7155 - val_accuracy: 0.5938\n",
      "Epoch 5/10\n",
      "37408/37408 [==============================] - 28s 760us/sample - loss: -719.7235 - accuracy: 0.5923 - val_loss: -72.7088 - val_accuracy: 0.5938\n",
      "Epoch 6/10\n",
      "37408/37408 [==============================] - 28s 762us/sample - loss: -719.7519 - accuracy: 0.5920 - val_loss: -72.7085 - val_accuracy: 0.5938\n",
      "Epoch 7/10\n",
      "37408/37408 [==============================] - 28s 761us/sample - loss: -719.7384 - accuracy: 0.5920 - val_loss: -72.7017 - val_accuracy: 0.5938\n",
      "Epoch 8/10\n",
      "37408/37408 [==============================] - 29s 767us/sample - loss: -719.7622 - accuracy: 0.5923 - val_loss: -72.7016 - val_accuracy: 0.5938\n",
      "Epoch 9/10\n",
      "37408/37408 [==============================] - 28s 762us/sample - loss: -719.6955 - accuracy: 0.5920 - val_loss: -72.7122 - val_accuracy: 0.5938\n",
      "Epoch 10/10\n",
      "37408/37408 [==============================] - 28s 761us/sample - loss: -719.6615 - accuracy: 0.5942 - val_loss: -72.6941 - val_accuracy: 0.5938\n"
     ]
    }
   ],
   "source": [
    "history = model.fit(x=input_tensor_train, y=target_tensor_train, epochs=10, batch_size=32,\n",
    "                    validation_data=(input_tensor_val,target_tensor_val),\n",
    "                    validation_steps=30)\n"
   ]
  },
  {
   "cell_type": "code",
   "execution_count": 0,
   "metadata": {
    "colab": {},
    "colab_type": "code",
    "id": "K-8T3tQKIaVr"
   },
   "outputs": [],
   "source": [
    "out = model.predict(target_tensor[6])"
   ]
  },
  {
   "cell_type": "code",
   "execution_count": 40,
   "metadata": {
    "colab": {
     "base_uri": "https://localhost:8080/",
     "height": 158
    },
    "colab_type": "code",
    "executionInfo": {
     "elapsed": 538,
     "status": "ok",
     "timestamp": 1579773460651,
     "user": {
      "displayName": "Ogorodnikova Olesya",
      "photoUrl": "https://lh3.googleusercontent.com/a-/AAuE7mDiCsRYhw6dd7XNg6vIYCzxcq11tp3ojoQ3lQ-xmQ=s64",
      "userId": "03663466265113100885"
     },
     "user_tz": -60
    },
    "id": "Wdvy47uACiu7",
    "outputId": "1fea711a-dae7-4c44-84f3-e226b7769b78"
   },
   "outputs": [
    {
     "name": "stdout",
     "output_type": "stream",
     "text": [
      "[43 43 49 49 49 49 49 49 43 49 49 43 49 49  3  3  3  3  3  3  3  3  3  3\n",
      "  3  3  3  3  3  3  3  3  3  3  3  3  3  3  3  3  3  3  3  3  3  3  3  3\n",
      "  3  3  3  3  3  3  3  3  3  3  3  3  3  3  3  3  3  3  3  3  3  3  3  3\n",
      "  3  3  3  3  3  3  3  3  3  3  3  3  3  3  3  3  3  3  3  3  3  3  3  3\n",
      "  3  3  3  3  3  3  3  3  3  3  3  3  3  3  3  3  3  3  3  3  3  3  3  3\n",
      "  3  3  3  3  3  3  3  3  3  3  3  3  3  3  3  3  3  3  3  3  3  3  3  3\n",
      "  3  3  3  3  3  3  3  3  3  3  3  3  3  3  3  3  3  3  3  3  3  3  3  3\n",
      "  3  3  3  3  3  3  3  3  3  3  3  3  3  3  3  3  3  3  3  3  3  3  3  3]\n"
     ]
    }
   ],
   "source": [
    "Y = list()\n",
    "for x in out.argmax(axis = 1)[:,None]:\n",
    "    Y.append(x.sum())\n",
    "\n",
    "Y = np.array(Y)\n",
    "print(Y)"
   ]
  },
  {
   "cell_type": "code",
   "execution_count": 41,
   "metadata": {
    "colab": {
     "base_uri": "https://localhost:8080/",
     "height": 228
    },
    "colab_type": "code",
    "executionInfo": {
     "elapsed": 587,
     "status": "ok",
     "timestamp": 1579773464686,
     "user": {
      "displayName": "Ogorodnikova Olesya",
      "photoUrl": "https://lh3.googleusercontent.com/a-/AAuE7mDiCsRYhw6dd7XNg6vIYCzxcq11tp3ojoQ3lQ-xmQ=s64",
      "userId": "03663466265113100885"
     },
     "user_tz": -60
    },
    "id": "zsubTXBhIaV0",
    "outputId": "d5f6e1d3-5bf3-473e-a95d-3b7cb5255f2c"
   },
   "outputs": [
    {
     "data": {
      "text/plain": [
       "array([43, 43, 49, 49, 49, 49, 49, 49, 43, 49, 49, 43, 49, 49,  3,  3,  3,\n",
       "        3,  3,  3,  3,  3,  3,  3,  3,  3,  3,  3,  3,  3,  3,  3,  3,  3,\n",
       "        3,  3,  3,  3,  3,  3,  3,  3,  3,  3,  3,  3,  3,  3,  3,  3,  3,\n",
       "        3,  3,  3,  3,  3,  3,  3,  3,  3,  3,  3,  3,  3,  3,  3,  3,  3,\n",
       "        3,  3,  3,  3,  3,  3,  3,  3,  3,  3,  3,  3,  3,  3,  3,  3,  3,\n",
       "        3,  3,  3,  3,  3,  3,  3,  3,  3,  3,  3,  3,  3,  3,  3,  3,  3,\n",
       "        3,  3,  3,  3,  3,  3,  3,  3,  3,  3,  3,  3,  3,  3,  3,  3,  3,\n",
       "        3,  3,  3,  3,  3,  3,  3,  3,  3,  3,  3,  3,  3,  3,  3,  3,  3,\n",
       "        3,  3,  3,  3,  3,  3,  3,  3,  3,  3,  3,  3,  3,  3,  3,  3,  3,\n",
       "        3,  3,  3,  3,  3,  3,  3,  3,  3,  3,  3,  3,  3,  3,  3,  3,  3,\n",
       "        3,  3,  3,  3,  3,  3,  3,  3,  3,  3,  3,  3,  3,  3,  3,  3,  3,\n",
       "        3,  3,  3,  3,  3])"
      ]
     },
     "execution_count": 41,
     "metadata": {
      "tags": []
     },
     "output_type": "execute_result"
    }
   ],
   "source": [
    "out.argmax(axis = 1)[:,None].reshape(1,-1)[0]"
   ]
  },
  {
   "cell_type": "code",
   "execution_count": 42,
   "metadata": {
    "colab": {
     "base_uri": "https://localhost:8080/",
     "height": 34
    },
    "colab_type": "code",
    "executionInfo": {
     "elapsed": 545,
     "status": "ok",
     "timestamp": 1579773467858,
     "user": {
      "displayName": "Ogorodnikova Olesya",
      "photoUrl": "https://lh3.googleusercontent.com/a-/AAuE7mDiCsRYhw6dd7XNg6vIYCzxcq11tp3ojoQ3lQ-xmQ=s64",
      "userId": "03663466265113100885"
     },
     "user_tz": -60
    },
    "id": "XPZfQO8gIaV9",
    "outputId": "d9f0b3a6-a537-4568-cb2e-6f3eb8d8c96a"
   },
   "outputs": [
    {
     "data": {
      "text/plain": [
       "'that ninety nine percent of ours is newspaper and uh you know uh glass'"
      ]
     },
     "execution_count": 42,
     "metadata": {
      "tags": []
     },
     "output_type": "execute_result"
    }
   ],
   "source": [
    "tokenizer_en.decode(target_tensor[6])"
   ]
  },
  {
   "cell_type": "code",
   "execution_count": 43,
   "metadata": {
    "colab": {
     "base_uri": "https://localhost:8080/",
     "height": 54
    },
    "colab_type": "code",
    "executionInfo": {
     "elapsed": 540,
     "status": "ok",
     "timestamp": 1579773469687,
     "user": {
      "displayName": "Ogorodnikova Olesya",
      "photoUrl": "https://lh3.googleusercontent.com/a-/AAuE7mDiCsRYhw6dd7XNg6vIYCzxcq11tp3ojoQ3lQ-xmQ=s64",
      "userId": "03663466265113100885"
     },
     "user_tz": -60
    },
    "id": "s7TasM_ZTm_F",
    "outputId": "005896e6-4701-4f29-b180-a06a896a5eff"
   },
   "outputs": [
    {
     "data": {
      "text/plain": [
       "'all all think think think think think think all think think all think think to to to to to to to to to to to to to to to to to to to to to to to to to to to to to to to to to to to to to to to to to to to to to to to to to to to to to to to to to to to to to to to to to to to to to to to to to to to to to to to to to to to to to to to to to to to to to to to to to to to to to to to to to to to to to to to to to to to to to to to to to to to to to to to to to to to to to to to to to to to to to to to to to to to to to to to to to to to to to to to to to to to to to to to to to to to to to to to to to to '"
      ]
     },
     "execution_count": 43,
     "metadata": {
      "tags": []
     },
     "output_type": "execute_result"
    }
   ],
   "source": [
    "tokenizer_en.decode(out.argmax(axis = 1)[:,None].reshape(1,-1)[0])"
   ]
  }
 ],
 "metadata": {
  "accelerator": "GPU",
  "colab": {
   "collapsed_sections": [],
   "name": "Copy of 30_1_initial_modeling_investigation.ipynb",
   "provenance": [
    {
     "file_id": "1at6fXuf983GcIC_taa2KkRCtx0s3iAv3",
     "timestamp": 1579773759082
    }
   ]
  },
  "kernelspec": {
   "display_name": "Python 3",
   "language": "python",
   "name": "python3"
  },
  "language_info": {
   "codemirror_mode": {
    "name": "ipython",
    "version": 3
   },
   "file_extension": ".py",
   "mimetype": "text/x-python",
   "name": "python",
   "nbconvert_exporter": "python",
   "pygments_lexer": "ipython3",
   "version": "3.7.3"
  }
 },
 "nbformat": 4,
 "nbformat_minor": 1
}
