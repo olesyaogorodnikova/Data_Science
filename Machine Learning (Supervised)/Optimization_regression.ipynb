{
 "cells": [
  {
   "cell_type": "markdown",
   "metadata": {},
   "source": [
    "Implement your own (GD) function for fitting a linear regression model to yesterday’s salary data. Use matrix algebra! You are provided with a helper notebook which contains the relevant formulas und contains the basic structure.\n",
    "\n",
    "Implement standard (vanilla) gradient descent.\n",
    "\n",
    "Investigate the effect of different learning rates.\n",
    "\n",
    "Create an additional function for stochastic gradient descent. Take care that you shuffle the dataset befor each new run. Why? What happens if you don’t shuffle them?\n",
    "\n",
    "Implement a linear regression model with sklearn and compare it’s result with those from your GD functions."
   ]
  },
  {
   "cell_type": "code",
   "execution_count": 1,
   "metadata": {},
   "outputs": [],
   "source": [
    " %matplotlib inline\n",
    "import matplotlib.pyplot as plt\n",
    "import numpy as np\n",
    "import pandas as pd\n",
    "from sklearn.utils import shuffle\n",
    "from typing import Dict, Tuple, Callable"
   ]
  },
  {
   "cell_type": "code",
   "execution_count": 2,
   "metadata": {},
   "outputs": [],
   "source": [
    "dataset = pd.read_csv('Salary_Data.csv')"
   ]
  },
  {
   "cell_type": "code",
   "execution_count": 3,
   "metadata": {},
   "outputs": [],
   "source": [
    "plt.rcParams[\"figure.figsize\"] = (12, 6) #Change matplotlib Box Size\n",
    "plt.rcParams[\"font.size\"] = 14 #Change matplotlib Font Size"
   ]
  },
  {
   "cell_type": "code",
   "execution_count": 4,
   "metadata": {},
   "outputs": [
    {
     "data": {
      "text/html": [
       "<div>\n",
       "<style scoped>\n",
       "    .dataframe tbody tr th:only-of-type {\n",
       "        vertical-align: middle;\n",
       "    }\n",
       "\n",
       "    .dataframe tbody tr th {\n",
       "        vertical-align: top;\n",
       "    }\n",
       "\n",
       "    .dataframe thead th {\n",
       "        text-align: right;\n",
       "    }\n",
       "</style>\n",
       "<table border=\"1\" class=\"dataframe\">\n",
       "  <thead>\n",
       "    <tr style=\"text-align: right;\">\n",
       "      <th></th>\n",
       "      <th>YearsExperience</th>\n",
       "      <th>Salary</th>\n",
       "    </tr>\n",
       "  </thead>\n",
       "  <tbody>\n",
       "    <tr>\n",
       "      <th>0</th>\n",
       "      <td>1.1</td>\n",
       "      <td>39343.0</td>\n",
       "    </tr>\n",
       "    <tr>\n",
       "      <th>1</th>\n",
       "      <td>1.3</td>\n",
       "      <td>46205.0</td>\n",
       "    </tr>\n",
       "    <tr>\n",
       "      <th>2</th>\n",
       "      <td>1.5</td>\n",
       "      <td>37731.0</td>\n",
       "    </tr>\n",
       "    <tr>\n",
       "      <th>3</th>\n",
       "      <td>2.0</td>\n",
       "      <td>43525.0</td>\n",
       "    </tr>\n",
       "    <tr>\n",
       "      <th>4</th>\n",
       "      <td>2.2</td>\n",
       "      <td>39891.0</td>\n",
       "    </tr>\n",
       "  </tbody>\n",
       "</table>\n",
       "</div>"
      ],
      "text/plain": [
       "   YearsExperience   Salary\n",
       "0              1.1  39343.0\n",
       "1              1.3  46205.0\n",
       "2              1.5  37731.0\n",
       "3              2.0  43525.0\n",
       "4              2.2  39891.0"
      ]
     },
     "execution_count": 4,
     "metadata": {},
     "output_type": "execute_result"
    }
   ],
   "source": [
    "dataset.head()"
   ]
  },
  {
   "cell_type": "code",
   "execution_count": 6,
   "metadata": {},
   "outputs": [
    {
     "data": {
      "text/plain": [
       "array([[1. , 1.1],\n",
       "       [1. , 1.3],\n",
       "       [1. , 1.5],\n",
       "       [1. , 2. ],\n",
       "       [1. , 2.2],\n",
       "       [1. , 2.9],\n",
       "       [1. , 3. ],\n",
       "       [1. , 3.2],\n",
       "       [1. , 3.2],\n",
       "       [1. , 3.7]])"
      ]
     },
     "execution_count": 6,
     "metadata": {},
     "output_type": "execute_result"
    }
   ],
   "source": [
    "y = dataset.iloc[:,1].values.reshape(-1, 1) # reshape to make sure y is a column vector \n",
    "\n",
    "X = dataset.iloc[:,:-1].values\n",
    "X_b = np.hstack((np.ones((X.shape[0],1)), X))\n",
    "X_b[:10,:]"
   ]
  },
  {
   "cell_type": "code",
   "execution_count": 7,
   "metadata": {},
   "outputs": [],
   "source": [
    "def predict(X_b: np.ndarray, beta: np.ndarray) -> np.ndarray:\n",
    "    \"\"\"\n",
    "    :param X_b: feature matrix including column of ones for bias\n",
    "    :return: result of the linear regression\n",
    "    \"\"\"\n",
    "    y_hat = np.dot(X_b,beta)\n",
    "    \n",
    "    return y_hat\n",
    "\n",
    "#  we actually don't need the cost function itself for gradient descent\n",
    "#  but it is nice to have and certainly a good exercise for you ;)\n",
    "def calc_cost(X_b: np.ndarray, y: np.ndarray, beta: np.ndarray) -> np.ndarray:\n",
    "    \"\"\"\n",
    "    :param X_b: feature matrix including column of ones for bias\n",
    "    :param y: labels\n",
    "    :param beta: regression coefficients \n",
    "    :return: return cost\n",
    "    \"\"\"\n",
    "    \n",
    "    \n",
    "    return cost\n",
    "  \n",
    "\n",
    "# what we need is the gradient, which consists of the partial derivatives of the cost function\n",
    "def calc_gradient(\n",
    "    X_b: np.ndarray, y: np.ndarray, beta: np.ndarray, alpha: float = None\n",
    ") -> np.ndarray:\n",
    "    \"\"\"\n",
    "    :param X_b: feature matrix including column of ones for bias\n",
    "    :param y: labels\n",
    "    :param beta: regression coefficients \n",
    "    :param alpha: for Lasso regrisson (you might need it for exercise 2 - bonus)\n",
    "    :return: gradient\n",
    "    \"\"\"\n",
    "    \n",
    "    \n",
    "    return grad\n",
    "\n",
    "\n",
    "def update_beta(beta: np.ndarray, gradient: np.ndarray, learning_rate: float = 0.1):\n",
    "    \"\"\"\n",
    "    :param beta: regression coefficient vector\n",
    "    :param gradient: gradient vector\n",
    "    :param lr: learning rate for updating beta\n",
    "    :return: updated beta vector\n",
    "    \"\"\"\n",
    "    \n",
    "    \n",
    "    return beta_new\n",
    "\n",
    "\n",
    "def calc_rmse(y: np.ndarray, y_hat: np.ndarray):\n",
    "    \"\"\"\n",
    "    :param y: vector of observed values\n",
    "    :param y_hat: vector of estimated (predicted) values\n",
    "    :return: root mean squared error (RMSE)\n",
    "    \"\"\"\n",
    "    \n",
    "    \n",
    "    return rmse"
   ]
  },
  {
   "cell_type": "code",
   "execution_count": null,
   "metadata": {},
   "outputs": [],
   "source": []
  },
  {
   "cell_type": "code",
   "execution_count": null,
   "metadata": {},
   "outputs": [],
   "source": []
  }
 ],
 "metadata": {
  "kernelspec": {
   "display_name": "Python 3",
   "language": "python",
   "name": "python3"
  },
  "language_info": {
   "codemirror_mode": {
    "name": "ipython",
    "version": 3
   },
   "file_extension": ".py",
   "mimetype": "text/x-python",
   "name": "python",
   "nbconvert_exporter": "python",
   "pygments_lexer": "ipython3",
   "version": "3.7.3"
  }
 },
 "nbformat": 4,
 "nbformat_minor": 2
}
