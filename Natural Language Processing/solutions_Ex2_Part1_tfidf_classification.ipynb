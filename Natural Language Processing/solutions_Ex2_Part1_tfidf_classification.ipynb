{
 "cells": [
  {
   "cell_type": "markdown",
   "metadata": {},
   "source": [
    "# Exercise 2 - Multi-class text classification Problem"
   ]
  },
  {
   "cell_type": "markdown",
   "metadata": {},
   "source": [
    "GOAL: Use Supervised Machine Learning Methods and NLP to build a model that classifies new incoming \"user complains\" into one of the product categories.\n",
    "      Target variable: Product\n",
    "      Feature: \"Consumer complaint narrative\"\n",
    "\n",
    "EXERCISE: \n",
    "    - Preprocess the dataset\n",
    "    - Use TF-IDF for Text Representation\n",
    "    - Using hte Naive Bayes implementation as a guidance, apply other classification models to the problem.\n",
    "    - Evaluate all the model used and identify the best one\n",
    "\n",
    "NB: please notice that the TfidVectorized will not run locally on the whole dataset. The exercise will be presented on a subsample of 5000 rows"
   ]
  },
  {
   "cell_type": "markdown",
   "metadata": {},
   "source": [
    "# Walkthrough\n",
    "\n",
    "#### Data Exploration\n",
    "     - cutting dataset\n",
    "#### Data Cleaning\n",
    "     - checking for class imbalances\n",
    "#### Text Representation\n",
    "    - TF-IDF\n",
    "    - Finding terms correlations\n",
    "#### Classifier Implementation ( Naive Bayes)\n",
    "#### Multiple Model Implementation \n",
    "#### Benchmarking and Evaluation"
   ]
  },
  {
   "cell_type": "markdown",
   "metadata": {},
   "source": [
    "### DATA EXPLORATION"
   ]
  },
  {
   "cell_type": "code",
   "execution_count": 2,
   "metadata": {
    "ExecuteTime": {
     "end_time": "2019-01-08T16:19:30.207269Z",
     "start_time": "2019-01-08T16:19:20.226006Z"
    }
   },
   "outputs": [
    {
     "name": "stderr",
     "output_type": "stream",
     "text": [
      "/Users/mousadak/anaconda3/lib/python3.7/site-packages/IPython/core/interactiveshell.py:2785: DtypeWarning: Columns (4,5,6,11,16) have mixed types. Specify dtype option on import or set low_memory=False.\n",
      "  interactivity=interactivity, compiler=compiler, result=result)\n"
     ]
    },
    {
     "data": {
      "text/html": [
       "<div>\n",
       "<style scoped>\n",
       "    .dataframe tbody tr th:only-of-type {\n",
       "        vertical-align: middle;\n",
       "    }\n",
       "\n",
       "    .dataframe tbody tr th {\n",
       "        vertical-align: top;\n",
       "    }\n",
       "\n",
       "    .dataframe thead th {\n",
       "        text-align: right;\n",
       "    }\n",
       "</style>\n",
       "<table border=\"1\" class=\"dataframe\">\n",
       "  <thead>\n",
       "    <tr style=\"text-align: right;\">\n",
       "      <th></th>\n",
       "      <th>Date received</th>\n",
       "      <th>Product</th>\n",
       "      <th>Sub-product</th>\n",
       "      <th>Issue</th>\n",
       "      <th>Sub-issue</th>\n",
       "      <th>Consumer complaint narrative</th>\n",
       "      <th>Company public response</th>\n",
       "      <th>Company</th>\n",
       "      <th>State</th>\n",
       "      <th>ZIP code</th>\n",
       "      <th>Tags</th>\n",
       "      <th>Consumer consent provided?</th>\n",
       "      <th>Submitted via</th>\n",
       "      <th>Date sent to company</th>\n",
       "      <th>Company response to consumer</th>\n",
       "      <th>Timely response?</th>\n",
       "      <th>Consumer disputed?</th>\n",
       "      <th>Complaint ID</th>\n",
       "    </tr>\n",
       "  </thead>\n",
       "  <tbody>\n",
       "    <tr>\n",
       "      <th>0</th>\n",
       "      <td>12/31/2018</td>\n",
       "      <td>Credit reporting, credit repair services, or o...</td>\n",
       "      <td>Credit reporting</td>\n",
       "      <td>Problem with a credit reporting company's inve...</td>\n",
       "      <td>Their investigation did not fix an error on yo...</td>\n",
       "      <td>NaN</td>\n",
       "      <td>NaN</td>\n",
       "      <td>Convergent Resources, Inc.</td>\n",
       "      <td>GA</td>\n",
       "      <td>NaN</td>\n",
       "      <td>NaN</td>\n",
       "      <td>NaN</td>\n",
       "      <td>Web</td>\n",
       "      <td>12/31/2018</td>\n",
       "      <td>Closed with explanation</td>\n",
       "      <td>Yes</td>\n",
       "      <td>NaN</td>\n",
       "      <td>3113161</td>\n",
       "    </tr>\n",
       "    <tr>\n",
       "      <th>1</th>\n",
       "      <td>12/31/2018</td>\n",
       "      <td>Vehicle loan or lease</td>\n",
       "      <td>Lease</td>\n",
       "      <td>Managing the loan or lease</td>\n",
       "      <td>Problem with fees charged</td>\n",
       "      <td>NaN</td>\n",
       "      <td>NaN</td>\n",
       "      <td>MERCEDES BENZ FINANCIAL SERVICES</td>\n",
       "      <td>CA</td>\n",
       "      <td>NaN</td>\n",
       "      <td>NaN</td>\n",
       "      <td>Other</td>\n",
       "      <td>Web</td>\n",
       "      <td>12/31/2018</td>\n",
       "      <td>In progress</td>\n",
       "      <td>Yes</td>\n",
       "      <td>NaN</td>\n",
       "      <td>3113131</td>\n",
       "    </tr>\n",
       "    <tr>\n",
       "      <th>2</th>\n",
       "      <td>12/31/2018</td>\n",
       "      <td>Debt collection</td>\n",
       "      <td>Medical debt</td>\n",
       "      <td>Attempts to collect debt not owed</td>\n",
       "      <td>Debt is not yours</td>\n",
       "      <td>NaN</td>\n",
       "      <td>NaN</td>\n",
       "      <td>BCA Financial Services, Inc.</td>\n",
       "      <td>FL</td>\n",
       "      <td>336XX</td>\n",
       "      <td>NaN</td>\n",
       "      <td>NaN</td>\n",
       "      <td>Web</td>\n",
       "      <td>12/31/2018</td>\n",
       "      <td>In progress</td>\n",
       "      <td>Yes</td>\n",
       "      <td>NaN</td>\n",
       "      <td>3113586</td>\n",
       "    </tr>\n",
       "  </tbody>\n",
       "</table>\n",
       "</div>"
      ],
      "text/plain": [
       "  Date received                                            Product  \\\n",
       "0    12/31/2018  Credit reporting, credit repair services, or o...   \n",
       "1    12/31/2018                              Vehicle loan or lease   \n",
       "2    12/31/2018                                    Debt collection   \n",
       "\n",
       "        Sub-product                                              Issue  \\\n",
       "0  Credit reporting  Problem with a credit reporting company's inve...   \n",
       "1             Lease                         Managing the loan or lease   \n",
       "2      Medical debt                  Attempts to collect debt not owed   \n",
       "\n",
       "                                           Sub-issue  \\\n",
       "0  Their investigation did not fix an error on yo...   \n",
       "1                          Problem with fees charged   \n",
       "2                                  Debt is not yours   \n",
       "\n",
       "  Consumer complaint narrative Company public response  \\\n",
       "0                          NaN                     NaN   \n",
       "1                          NaN                     NaN   \n",
       "2                          NaN                     NaN   \n",
       "\n",
       "                            Company State ZIP code Tags  \\\n",
       "0        Convergent Resources, Inc.    GA      NaN  NaN   \n",
       "1  MERCEDES BENZ FINANCIAL SERVICES    CA      NaN  NaN   \n",
       "2      BCA Financial Services, Inc.    FL    336XX  NaN   \n",
       "\n",
       "  Consumer consent provided? Submitted via Date sent to company  \\\n",
       "0                        NaN           Web           12/31/2018   \n",
       "1                      Other           Web           12/31/2018   \n",
       "2                        NaN           Web           12/31/2018   \n",
       "\n",
       "  Company response to consumer Timely response? Consumer disputed?  \\\n",
       "0      Closed with explanation              Yes                NaN   \n",
       "1                  In progress              Yes                NaN   \n",
       "2                  In progress              Yes                NaN   \n",
       "\n",
       "   Complaint ID  \n",
       "0       3113161  \n",
       "1       3113131  \n",
       "2       3113586  "
      ]
     },
     "execution_count": 2,
     "metadata": {},
     "output_type": "execute_result"
    }
   ],
   "source": [
    "import pandas as pd\n",
    "df = pd.read_csv('Consumer_Complaints.csv')\n",
    "df.head(3)"
   ]
  },
  {
   "cell_type": "code",
   "execution_count": 3,
   "metadata": {
    "ExecuteTime": {
     "end_time": "2019-01-08T16:19:33.528518Z",
     "start_time": "2019-01-08T16:19:32.258663Z"
    }
   },
   "outputs": [
    {
     "name": "stdout",
     "output_type": "stream",
     "text": [
      "<class 'pandas.core.frame.DataFrame'>\n",
      "RangeIndex: 1189771 entries, 0 to 1189770\n",
      "Data columns (total 18 columns):\n",
      "Date received                   1189771 non-null object\n",
      "Product                         1189771 non-null object\n",
      "Sub-product                     954605 non-null object\n",
      "Issue                           1189771 non-null object\n",
      "Sub-issue                       670648 non-null object\n",
      "Consumer complaint narrative    354576 non-null object\n",
      "Company public response         402196 non-null object\n",
      "Company                         1189771 non-null object\n",
      "State                           1173147 non-null object\n",
      "ZIP code                        1091506 non-null object\n",
      "Tags                            162567 non-null object\n",
      "Consumer consent provided?      627943 non-null object\n",
      "Submitted via                   1189771 non-null object\n",
      "Date sent to company            1189771 non-null object\n",
      "Company response to consumer    1189765 non-null object\n",
      "Timely response?                1189771 non-null object\n",
      "Consumer disputed?              768526 non-null object\n",
      "Complaint ID                    1189771 non-null int64\n",
      "dtypes: int64(1), object(17)\n",
      "memory usage: 163.4+ MB\n"
     ]
    }
   ],
   "source": [
    "df.info()"
   ]
  },
  {
   "cell_type": "code",
   "execution_count": 4,
   "metadata": {
    "ExecuteTime": {
     "end_time": "2019-01-08T16:19:36.258519Z",
     "start_time": "2019-01-08T16:19:36.154340Z"
    }
   },
   "outputs": [],
   "source": [
    "#Running the exercise on the first 5000 rows\n",
    "###########\n",
    "    # previous code\n",
    "    #df = df.head(5000)\n",
    "###########    \n",
    "    # new code with random sample\n",
    "df = df.sample(frac = 0.01)"
   ]
  },
  {
   "cell_type": "markdown",
   "metadata": {},
   "source": [
    "### DATA CLEANING"
   ]
  },
  {
   "cell_type": "code",
   "execution_count": 5,
   "metadata": {
    "ExecuteTime": {
     "end_time": "2019-01-08T16:19:37.926729Z",
     "start_time": "2019-01-08T16:19:37.923279Z"
    }
   },
   "outputs": [],
   "source": [
    "#TO DO: Identify the target and the feature columns"
   ]
  },
  {
   "cell_type": "code",
   "execution_count": 6,
   "metadata": {
    "ExecuteTime": {
     "end_time": "2019-01-08T16:19:38.687836Z",
     "start_time": "2019-01-08T16:19:38.626891Z"
    }
   },
   "outputs": [
    {
     "data": {
      "text/html": [
       "<div>\n",
       "<style scoped>\n",
       "    .dataframe tbody tr th:only-of-type {\n",
       "        vertical-align: middle;\n",
       "    }\n",
       "\n",
       "    .dataframe tbody tr th {\n",
       "        vertical-align: top;\n",
       "    }\n",
       "\n",
       "    .dataframe thead th {\n",
       "        text-align: right;\n",
       "    }\n",
       "</style>\n",
       "<table border=\"1\" class=\"dataframe\">\n",
       "  <thead>\n",
       "    <tr style=\"text-align: right;\">\n",
       "      <th></th>\n",
       "      <th>Product</th>\n",
       "      <th>Consumer_complaint_narrative</th>\n",
       "      <th>category_id</th>\n",
       "    </tr>\n",
       "  </thead>\n",
       "  <tbody>\n",
       "    <tr>\n",
       "      <th>89325</th>\n",
       "      <td>Debt collection</td>\n",
       "      <td>Help : i keep getting harassing letters from c...</td>\n",
       "      <td>0</td>\n",
       "    </tr>\n",
       "    <tr>\n",
       "      <th>47806</th>\n",
       "      <td>Vehicle loan or lease</td>\n",
       "      <td>My car loan was with XXXX XXXX in New Jersey. ...</td>\n",
       "      <td>1</td>\n",
       "    </tr>\n",
       "    <tr>\n",
       "      <th>283001</th>\n",
       "      <td>Checking or savings account</td>\n",
       "      <td>I was solicited by Capital One 360 to open a C...</td>\n",
       "      <td>2</td>\n",
       "    </tr>\n",
       "    <tr>\n",
       "      <th>505890</th>\n",
       "      <td>Credit card</td>\n",
       "      <td>In XX/XX/XXXX I borrowed {$45000.00} on my XXX...</td>\n",
       "      <td>3</td>\n",
       "    </tr>\n",
       "    <tr>\n",
       "      <th>85657</th>\n",
       "      <td>Credit card or prepaid card</td>\n",
       "      <td>Walmart Master Card Interest Rate : I called W...</td>\n",
       "      <td>4</td>\n",
       "    </tr>\n",
       "  </tbody>\n",
       "</table>\n",
       "</div>"
      ],
      "text/plain": [
       "                            Product  \\\n",
       "89325               Debt collection   \n",
       "47806         Vehicle loan or lease   \n",
       "283001  Checking or savings account   \n",
       "505890                  Credit card   \n",
       "85657   Credit card or prepaid card   \n",
       "\n",
       "                             Consumer_complaint_narrative  category_id  \n",
       "89325   Help : i keep getting harassing letters from c...            0  \n",
       "47806   My car loan was with XXXX XXXX in New Jersey. ...            1  \n",
       "283001  I was solicited by Capital One 360 to open a C...            2  \n",
       "505890  In XX/XX/XXXX I borrowed {$45000.00} on my XXX...            3  \n",
       "85657   Walmart Master Card Interest Rate : I called W...            4  "
      ]
     },
     "execution_count": 6,
     "metadata": {},
     "output_type": "execute_result"
    }
   ],
   "source": [
    "#TO DO: Clean the columns (removing missing values)\n",
    "from io import StringIO\n",
    "col = ['Product', 'Consumer complaint narrative']\n",
    "df = df[col]\n",
    "df = df[pd.notnull(df['Consumer complaint narrative'])]\n",
    "df.columns = ['Product', 'Consumer_complaint_narrative']\n",
    "df['category_id'] = df['Product'].factorize()[0]\n",
    "category_id_df = df[['Product', 'category_id']].drop_duplicates().sort_values('category_id')\n",
    "category_to_id = dict(category_id_df.values)\n",
    "id_to_category = dict(category_id_df[['category_id', 'Product']].values)\n",
    "df.head()"
   ]
  },
  {
   "cell_type": "markdown",
   "metadata": {},
   "source": [
    "#### Checking for class imbalances\n",
    "- TO DO: visualize the category frequency in the dataset \n",
    "NB: NO RESAMPLING METHOD IS IMPLEMENTED"
   ]
  },
  {
   "cell_type": "code",
   "execution_count": 7,
   "metadata": {
    "ExecuteTime": {
     "end_time": "2019-01-08T16:19:40.643308Z",
     "start_time": "2019-01-08T16:19:40.155261Z"
    }
   },
   "outputs": [
    {
     "data": {
      "text/plain": [
       "<matplotlib.axes._subplots.AxesSubplot at 0x11ac52668>"
      ]
     },
     "execution_count": 7,
     "metadata": {},
     "output_type": "execute_result"
    }
   ],
   "source": [
    "import matplotlib.pyplot as plt\n",
    "fig = plt.figure(figsize=(8,6))\n",
    "df.groupby('Product').Consumer_complaint_narrative.count().plot.bar(ylim=0)\n"
   ]
  },
  {
   "cell_type": "markdown",
   "metadata": {},
   "source": [
    "In the image above we see that classes are highly imbalanced. Though we are continuing the exercises as such classes should be balanced before running machine learning. You are recommend to read the documentation of __up/downsampling__ in python\n",
    "https://imbalanced-learn.readthedocs.io/en/stable/over_sampling.html"
   ]
  },
  {
   "cell_type": "markdown",
   "metadata": {},
   "source": [
    "#### Text Representation"
   ]
  },
  {
   "cell_type": "markdown",
   "metadata": {},
   "source": [
    "Raw text cannot be used for classification purposes. We will use sklearn.feature_extraction.text.TfidfVectorizer to calculate a tf-idf vector for each of consumer complaint narratives"
   ]
  },
  {
   "cell_type": "code",
   "execution_count": 8,
   "metadata": {
    "ExecuteTime": {
     "end_time": "2019-01-08T16:19:45.293384Z",
     "start_time": "2019-01-08T16:19:42.363490Z"
    }
   },
   "outputs": [],
   "source": [
    "from sklearn.feature_extraction.text import TfidfVectorizer\n",
    "#TO DO: Implement the TfidVectorizer\n",
    "\n",
    "tfidf = TfidfVectorizer(sublinear_tf=True, min_df=5, norm='l2', encoding='latin-1', ngram_range=(1, 2), stop_words='english')\n",
    "features = tfidf.fit_transform(df.Consumer_complaint_narrative).toarray()\n",
    "labels = df.category_id\n"
   ]
  },
  {
   "cell_type": "code",
   "execution_count": 9,
   "metadata": {
    "ExecuteTime": {
     "end_time": "2019-01-08T16:19:49.587030Z",
     "start_time": "2019-01-08T16:19:49.582385Z"
    }
   },
   "outputs": [
    {
     "data": {
      "text/plain": [
       "(3612, 10618)"
      ]
     },
     "execution_count": 9,
     "metadata": {},
     "output_type": "execute_result"
    }
   ],
   "source": [
    "features.shape\n",
    "# Now, each of 525 consumer complaint narratives is represented by 1582 features, representing the tf-idf score for different unigrams and bigrams."
   ]
  },
  {
   "cell_type": "markdown",
   "metadata": {},
   "source": [
    "#### Fearture selection using Chi2 test\n",
    "chi-square test can be used to select a subste of features that show a difference between \n",
    "categories. A statistician might not prefer this but, let's stick to what engineers do to reduce the dimentions of the data. Chi2 provides chi-sq statistics and p-val for all featues in form of two lists. One can either use p-value (__p_val_threshold__) or by selecting a subset of features (__N__ in the code below). Both ways of selection is shown here."
   ]
  },
  {
   "cell_type": "code",
   "execution_count": 10,
   "metadata": {
    "ExecuteTime": {
     "end_time": "2019-01-08T16:19:56.302869Z",
     "start_time": "2019-01-08T16:19:52.421741Z"
    },
    "scrolled": true
   },
   "outputs": [
    {
     "name": "stdout",
     "output_type": "stream",
     "text": [
      "# 'Bank account or service':\n",
      "  . Most correlated unigrams:\n",
      ". wells\n",
      ". wellsfargo\n",
      "  . Most correlated bigrams:\n",
      ". xxxx overdraft\n",
      ". xxxx transactions\n",
      "# 'Checking or savings account':\n",
      "  . Most correlated unigrams:\n",
      ". withdrawals\n",
      ". withdrew\n",
      "  . Most correlated bigrams:\n",
      ". xxxx meeting\n",
      ". xxxx merchant\n",
      "# 'Consumer Loan':\n",
      "  . Most correlated unigrams:\n",
      ". vehicle\n",
      ". wear\n",
      "  . Most correlated bigrams:\n",
      ". xxxx financed\n",
      ". xxxx vehicle\n",
      "# 'Credit card':\n",
      "  . Most correlated unigrams:\n",
      ". vendor\n",
      ". visa\n",
      "  . Most correlated bigrams:\n",
      ". xxxx statements\n",
      ". xxxx subsequently\n",
      "# 'Credit card or prepaid card':\n",
      "  . Most correlated unigrams:\n",
      ". waive\n",
      ". xx\n",
      "  . Most correlated bigrams:\n",
      ". xxxx online\n",
      ". xxxx store\n",
      "# 'Credit reporting':\n",
      "  . Most correlated unigrams:\n",
      ". verify\n",
      ". view\n",
      "  . Most correlated bigrams:\n",
      ". xxxx refuse\n",
      ". xxxx reports\n",
      "# 'Credit reporting, credit repair services, or other personal consumer reports':\n",
      "  . Most correlated unigrams:\n",
      ". wells\n",
      ". xx\n",
      "  . Most correlated bigrams:\n",
      ". xxxx xx\n",
      ". xxxx xxxx\n",
      "# 'Debt collection':\n",
      "  . Most correlated unigrams:\n",
      ". wells\n",
      ". workplace\n",
      "  . Most correlated bigrams:\n",
      ". xxxx debt\n",
      ". xxxx owed\n",
      "# 'Money transfer, virtual currency, or money service':\n",
      "  . Most correlated unigrams:\n",
      ". withdraw\n",
      ". withdrawal\n",
      "  . Most correlated bigrams:\n",
      ". xxxx real\n",
      ". xxxx transaction\n",
      "# 'Money transfers':\n",
      "  . Most correlated unigrams:\n",
      ". wire\n",
      ". xxxxxxxxxxxx\n",
      "  . Most correlated bigrams:\n",
      ". xxxx xxxxxxxxxxxx\n",
      ". xxxxxxxxxxxx xxxx\n",
      "# 'Mortgage':\n",
      "  . Most correlated unigrams:\n",
      ". veterans\n",
      ". wells\n",
      "  . Most correlated bigrams:\n",
      ". xxxx shellpoint\n",
      ". year fixed\n",
      "# 'Other financial service':\n",
      "  . Most correlated unigrams:\n",
      ". weekly\n",
      ". wo\n",
      "  . Most correlated bigrams:\n",
      ". xxxx fell\n",
      ". xxxx try\n",
      "# 'Payday loan':\n",
      "  . Most correlated unigrams:\n",
      ". wouldn\n",
      ". yelling\n",
      "  . Most correlated bigrams:\n",
      ". xxxx overdraft\n",
      ". xxxx place\n",
      "# 'Payday loan, title loan, or personal loan':\n",
      "  . Most correlated unigrams:\n",
      ". week\n",
      ". weekly\n",
      "  . Most correlated bigrams:\n",
      ". xxxx week\n",
      ". xxxx weeks\n",
      "# 'Prepaid card':\n",
      "  . Most correlated unigrams:\n",
      ". urgent\n",
      ". usually\n",
      "  . Most correlated bigrams:\n",
      ". xxxx pay\n",
      ". xxxx small\n",
      "# 'Student loan':\n",
      "  . Most correlated unigrams:\n",
      ". year\n",
      ". years\n",
      "  . Most correlated bigrams:\n",
      ". xxxx university\n",
      ". year loan\n",
      "# 'Vehicle loan or lease':\n",
      "  . Most correlated unigrams:\n",
      ". verifies\n",
      ". wasnt\n",
      "  . Most correlated bigrams:\n",
      ". xxxx look\n",
      ". xxxx non\n"
     ]
    }
   ],
   "source": [
    "#using sklearn.feature_selection.chi2 to find the terms that are the most correlated with each of the products\n",
    "\n",
    "from sklearn.feature_selection import chi2\n",
    "import numpy as np\n",
    "N = 2\n",
    "# our p-value cut-off\n",
    "p_val_threshold = 0.1\n",
    "for Product, category_id in sorted(category_to_id.items()):\n",
    "    features_chi2 = chi2(features, labels == category_id)\n",
    "###########\n",
    "    #original code\n",
    "#    indices = np.argsort(features_chi2[0])  \n",
    "###########\n",
    "########### selecting using p-value cutoff\n",
    "# Modified code\n",
    "    indices = []\n",
    "    for i in range(0, len(features_chi2[1])):\n",
    "        if(features_chi2[1][i] <= p_val_threshold):\n",
    "            indices.append(i)\n",
    "###########            \n",
    "    feature_names = np.array(tfidf.get_feature_names())[indices]\n",
    "    unigrams = [v for v in feature_names if len(v.split(' ')) == 1]\n",
    "    bigrams = [v for v in feature_names if len(v.split(' ')) == 2]\n",
    "########### selecting using top N chi-sq performing features\n",
    "    print(\"# '{}':\".format(Product))\n",
    "    print(\"  . Most correlated unigrams:\\n. {}\".format('\\n. '.join(unigrams[-N:])))\n",
    "    print(\"  . Most correlated bigrams:\\n. {}\".format('\\n. '.join(bigrams[-N:])))"
   ]
  },
  {
   "cell_type": "markdown",
   "metadata": {},
   "source": [
    "## Chi-square selection\n",
    "Ideally the features selected in step above can be used to make a select on the features\n",
    "using __features[:,[indices]]__ and only use these features in classification. __We leave this to you to explore in future__."
   ]
  },
  {
   "cell_type": "markdown",
   "metadata": {},
   "source": [
    "## Classifier Implementation ( Naive Bayes)\n",
    "Here we show an example code how you can run a single machine learning model with tf-idf together. One can on contrary use the features created (and/or selected above using chi-sq test) to be fed into the code as well (example code using featuers shown in multiple model implementation). "
   ]
  },
  {
   "cell_type": "code",
   "execution_count": 11,
   "metadata": {
    "ExecuteTime": {
     "end_time": "2019-01-08T16:20:00.805728Z",
     "start_time": "2019-01-08T16:20:00.347411Z"
    }
   },
   "outputs": [],
   "source": [
    "from sklearn.model_selection import train_test_split\n",
    "from sklearn.feature_extraction.text import CountVectorizer\n",
    "from sklearn.feature_extraction.text import TfidfTransformer\n",
    "from sklearn.naive_bayes import MultinomialNB\n",
    "X_train, X_test, y_train, y_test = train_test_split(df['Consumer_complaint_narrative'], df['Product'], random_state = 0)\n",
    "count_vect = CountVectorizer()\n",
    "X_train_counts = count_vect.fit_transform(X_train)\n",
    "tfidf_transformer = TfidfTransformer()\n",
    "X_train_tfidf = tfidf_transformer.fit_transform(X_train_counts)\n",
    "clf = MultinomialNB().fit(X_train_tfidf, y_train)"
   ]
  },
  {
   "cell_type": "code",
   "execution_count": 12,
   "metadata": {
    "ExecuteTime": {
     "end_time": "2019-01-08T16:20:02.160223Z",
     "start_time": "2019-01-08T16:20:02.154778Z"
    }
   },
   "outputs": [
    {
     "name": "stdout",
     "output_type": "stream",
     "text": [
      "['Debt collection']\n"
     ]
    }
   ],
   "source": [
    "print(clf.predict(count_vect.transform([\"This company refuses to provide me verification and validation of debt per my right under the FDCPA. I do not believe this debt is mine.\"])))"
   ]
  },
  {
   "cell_type": "code",
   "execution_count": 13,
   "metadata": {
    "ExecuteTime": {
     "end_time": "2019-01-08T16:20:02.824956Z",
     "start_time": "2019-01-08T16:20:02.813202Z"
    }
   },
   "outputs": [
    {
     "data": {
      "text/html": [
       "<div>\n",
       "<style scoped>\n",
       "    .dataframe tbody tr th:only-of-type {\n",
       "        vertical-align: middle;\n",
       "    }\n",
       "\n",
       "    .dataframe tbody tr th {\n",
       "        vertical-align: top;\n",
       "    }\n",
       "\n",
       "    .dataframe thead th {\n",
       "        text-align: right;\n",
       "    }\n",
       "</style>\n",
       "<table border=\"1\" class=\"dataframe\">\n",
       "  <thead>\n",
       "    <tr style=\"text-align: right;\">\n",
       "      <th></th>\n",
       "      <th>Product</th>\n",
       "      <th>Consumer_complaint_narrative</th>\n",
       "      <th>category_id</th>\n",
       "    </tr>\n",
       "  </thead>\n",
       "  <tbody>\n",
       "  </tbody>\n",
       "</table>\n",
       "</div>"
      ],
      "text/plain": [
       "Empty DataFrame\n",
       "Columns: [Product, Consumer_complaint_narrative, category_id]\n",
       "Index: []"
      ]
     },
     "execution_count": 13,
     "metadata": {},
     "output_type": "execute_result"
    }
   ],
   "source": [
    "df[df['Consumer_complaint_narrative'] == \"This company refuses to provide me verification and validation of debt per my right under the FDCPA. I do not believe this debt is mine.\"]"
   ]
  },
  {
   "cell_type": "code",
   "execution_count": 14,
   "metadata": {
    "ExecuteTime": {
     "end_time": "2019-01-08T16:20:03.881404Z",
     "start_time": "2019-01-08T16:20:03.875512Z"
    }
   },
   "outputs": [
    {
     "name": "stdout",
     "output_type": "stream",
     "text": [
      "['Credit reporting, credit repair services, or other personal consumer reports']\n"
     ]
    }
   ],
   "source": [
    "print(clf.predict(count_vect.transform([\"I am disputing the inaccurate information the Chex-Systems has on my credit report. I initially submitted a police report on XXXX/XXXX/16 and Chex Systems only deleted the items that I mentioned in the letter and not all the items that were actually listed on the police report. In other words they wanted me to say word for word to them what items were fraudulent. The total disregard of the police report and what accounts that it states that are fraudulent. If they just had paid a little closer attention to the police report I would not been in this position now and they would n't have to research once again. I would like the reported information to be removed : XXXX XXXX XXXX\"])))"
   ]
  },
  {
   "cell_type": "markdown",
   "metadata": {},
   "source": [
    "#### Multiple Model implementation\n",
    "Here we use features created above (without selection)\n",
    "TO DO: implement and evaluate the perfomances of others classifiers. ( You're free to chose and compare. The exercise will feature Random Forest, Logistic Regression, Multinominal Naive Bayes and LSVM\n"
   ]
  },
  {
   "cell_type": "code",
   "execution_count": 15,
   "metadata": {
    "ExecuteTime": {
     "end_time": "2019-01-08T16:20:27.907338Z",
     "start_time": "2019-01-08T16:20:05.588229Z"
    }
   },
   "outputs": [
    {
     "name": "stderr",
     "output_type": "stream",
     "text": [
      "/Users/mousadak/anaconda3/lib/python3.7/site-packages/sklearn/model_selection/_split.py:652: Warning: The least populated class in y has only 2 members, which is too few. The minimum number of members in any class cannot be less than n_splits=5.\n",
      "  % (min_groups, self.n_splits)), Warning)\n",
      "/Users/mousadak/anaconda3/lib/python3.7/site-packages/sklearn/model_selection/_split.py:652: Warning: The least populated class in y has only 2 members, which is too few. The minimum number of members in any class cannot be less than n_splits=5.\n",
      "  % (min_groups, self.n_splits)), Warning)\n",
      "/Users/mousadak/anaconda3/lib/python3.7/site-packages/sklearn/model_selection/_split.py:652: Warning: The least populated class in y has only 2 members, which is too few. The minimum number of members in any class cannot be less than n_splits=5.\n",
      "  % (min_groups, self.n_splits)), Warning)\n",
      "/Users/mousadak/anaconda3/lib/python3.7/site-packages/sklearn/model_selection/_split.py:652: Warning: The least populated class in y has only 2 members, which is too few. The minimum number of members in any class cannot be less than n_splits=5.\n",
      "  % (min_groups, self.n_splits)), Warning)\n",
      "/Users/mousadak/anaconda3/lib/python3.7/site-packages/sklearn/linear_model/logistic.py:433: FutureWarning: Default solver will be changed to 'lbfgs' in 0.22. Specify a solver to silence this warning.\n",
      "  FutureWarning)\n",
      "/Users/mousadak/anaconda3/lib/python3.7/site-packages/sklearn/linear_model/logistic.py:460: FutureWarning: Default multi_class will be changed to 'auto' in 0.22. Specify the multi_class option to silence this warning.\n",
      "  \"this warning.\", FutureWarning)\n",
      "/Users/mousadak/anaconda3/lib/python3.7/site-packages/sklearn/linear_model/logistic.py:433: FutureWarning: Default solver will be changed to 'lbfgs' in 0.22. Specify a solver to silence this warning.\n",
      "  FutureWarning)\n",
      "/Users/mousadak/anaconda3/lib/python3.7/site-packages/sklearn/linear_model/logistic.py:460: FutureWarning: Default multi_class will be changed to 'auto' in 0.22. Specify the multi_class option to silence this warning.\n",
      "  \"this warning.\", FutureWarning)\n",
      "/Users/mousadak/anaconda3/lib/python3.7/site-packages/sklearn/linear_model/logistic.py:433: FutureWarning: Default solver will be changed to 'lbfgs' in 0.22. Specify a solver to silence this warning.\n",
      "  FutureWarning)\n",
      "/Users/mousadak/anaconda3/lib/python3.7/site-packages/sklearn/linear_model/logistic.py:460: FutureWarning: Default multi_class will be changed to 'auto' in 0.22. Specify the multi_class option to silence this warning.\n",
      "  \"this warning.\", FutureWarning)\n",
      "/Users/mousadak/anaconda3/lib/python3.7/site-packages/sklearn/linear_model/logistic.py:433: FutureWarning: Default solver will be changed to 'lbfgs' in 0.22. Specify a solver to silence this warning.\n",
      "  FutureWarning)\n",
      "/Users/mousadak/anaconda3/lib/python3.7/site-packages/sklearn/linear_model/logistic.py:460: FutureWarning: Default multi_class will be changed to 'auto' in 0.22. Specify the multi_class option to silence this warning.\n",
      "  \"this warning.\", FutureWarning)\n",
      "/Users/mousadak/anaconda3/lib/python3.7/site-packages/sklearn/linear_model/logistic.py:433: FutureWarning: Default solver will be changed to 'lbfgs' in 0.22. Specify a solver to silence this warning.\n",
      "  FutureWarning)\n",
      "/Users/mousadak/anaconda3/lib/python3.7/site-packages/sklearn/linear_model/logistic.py:460: FutureWarning: Default multi_class will be changed to 'auto' in 0.22. Specify the multi_class option to silence this warning.\n",
      "  \"this warning.\", FutureWarning)\n"
     ]
    },
    {
     "data": {
      "image/png": "[encoded data removed]",
      "text/plain": [
       "<Figure size 432x288 with 1 Axes>"
      ]
     },
     "metadata": {
      "needs_background": "light"
     },
     "output_type": "display_data"
    }
   ],
   "source": [
    "from sklearn.linear_model import LogisticRegression\n",
    "from sklearn.ensemble import RandomForestClassifier\n",
    "from sklearn.svm import LinearSVC\n",
    "from sklearn.model_selection import cross_val_score\n",
    "models = [\n",
    "    RandomForestClassifier(n_estimators=200, max_depth=3, random_state=0),\n",
    "    LinearSVC(),\n",
    "    MultinomialNB(),\n",
    "    LogisticRegression(random_state=0),\n",
    "]\n",
    "CV = 5\n",
    "cv_df = pd.DataFrame(index=range(CV * len(models)))\n",
    "entries = []\n",
    "for model in models:\n",
    "    model_name = model.__class__.__name__\n",
    "    accuracies = cross_val_score(model, features, labels, scoring='accuracy', cv=CV)\n",
    "    for fold_idx, accuracy in enumerate(accuracies):\n",
    "        entries.append((model_name, fold_idx, accuracy))\n",
    "cv_df = pd.DataFrame(entries, columns=['model_name', 'fold_idx', 'accuracy'])\n",
    "import seaborn as sns\n",
    "sns.boxplot(x='model_name', y='accuracy', data=cv_df)\n",
    "sns.stripplot(x='model_name', y='accuracy', data=cv_df, \n",
    "              size=8, jitter=True, edgecolor=\"gray\", linewidth=2)\n",
    "plt.show()"
   ]
  },
  {
   "cell_type": "code",
   "execution_count": 16,
   "metadata": {
    "ExecuteTime": {
     "end_time": "2019-01-08T16:20:27.927798Z",
     "start_time": "2019-01-08T16:20:27.912065Z"
    }
   },
   "outputs": [
    {
     "data": {
      "text/plain": [
       "model_name\n",
       "LinearSVC                 0.648075\n",
       "LogisticRegression        0.619311\n",
       "MultinomialNB             0.519385\n",
       "RandomForestClassifier    0.451059\n",
       "Name: accuracy, dtype: float64"
      ]
     },
     "execution_count": 16,
     "metadata": {},
     "output_type": "execute_result"
    }
   ],
   "source": [
    "cv_df.groupby('model_name').accuracy.mean()"
   ]
  },
  {
   "cell_type": "markdown",
   "metadata": {},
   "source": [
    "#### Model Evaluation Example"
   ]
  },
  {
   "cell_type": "code",
   "execution_count": 17,
   "metadata": {
    "ExecuteTime": {
     "end_time": "2019-01-08T16:20:30.043116Z",
     "start_time": "2019-01-08T16:20:27.932190Z"
    }
   },
   "outputs": [
    {
     "data": {
      "image/png": "[encoded data removed]",
      "text/plain": [
       "<Figure size 720x720 with 2 Axes>"
      ]
     },
     "metadata": {
      "needs_background": "light"
     },
     "output_type": "display_data"
    }
   ],
   "source": [
    "model = LinearSVC()\n",
    "X_train, X_test, y_train, y_test, indices_train, indices_test = train_test_split(features, labels, df.index, test_size=0.33, random_state=0)\n",
    "model.fit(X_train, y_train)\n",
    "y_pred = model.predict(X_test)\n",
    "from sklearn.metrics import confusion_matrix\n",
    "conf_mat = confusion_matrix(y_test, y_pred)\n",
    "fig, ax = plt.subplots(figsize=(10,10))\n",
    "sns.heatmap(conf_mat, annot=True, fmt='d',\n",
    "            xticklabels=category_id_df.Product.values, yticklabels=category_id_df.Product.values)\n",
    "plt.ylabel('Actual')\n",
    "plt.xlabel('Predicted')\n",
    "plt.show()"
   ]
  },
  {
   "cell_type": "markdown",
   "metadata": {},
   "source": [
    "### For each category the code identifies the features that best separate the data."
   ]
  },
  {
   "cell_type": "code",
   "execution_count": 18,
   "metadata": {
    "ExecuteTime": {
     "end_time": "2019-01-08T16:20:31.184843Z",
     "start_time": "2019-01-08T16:20:30.045908Z"
    }
   },
   "outputs": [
    {
     "name": "stdout",
     "output_type": "stream",
     "text": [
      "# 'Bank account or service':\n",
      "  . Top unigrams:\n",
      "       . bank\n",
      "       . overdraft\n",
      "  . Top bigrams:\n",
      "       . xx 2016\n",
      "       . account wells\n",
      "# 'Checking or savings account':\n",
      "  . Top unigrams:\n",
      "       . bank\n",
      "       . deposit\n",
      "  . Top bigrams:\n",
      "       . access account\n",
      "       . 60 days\n",
      "# 'Consumer Loan':\n",
      "  . Top unigrams:\n",
      "       . honda\n",
      "       . auto\n",
      "  . Top bigrams:\n",
      "       . auto finance\n",
      "       . vehicle xxxx\n",
      "# 'Credit card':\n",
      "  . Top unigrams:\n",
      "       . card\n",
      "       . macys\n",
      "  . Top bigrams:\n",
      "       . credit card\n",
      "       . card services\n",
      "# 'Credit card or prepaid card':\n",
      "  . Top unigrams:\n",
      "       . card\n",
      "       . store\n",
      "  . Top bigrams:\n",
      "       . card xx\n",
      "       . credit limit\n",
      "# 'Credit reporting':\n",
      "  . Top unigrams:\n",
      "       . equifax\n",
      "       . experian\n",
      "  . Top bigrams:\n",
      "       . xxxx years\n",
      "       . removed credit\n",
      "# 'Credit reporting, credit repair services, or other personal consumer reports':\n",
      "  . Top unigrams:\n",
      "       . information\n",
      "       . freeze\n",
      "  . Top bigrams:\n",
      "       . xxxx xxxx\n",
      "       . xxxx experian\n",
      "# 'Debt collection':\n",
      "  . Top unigrams:\n",
      "       . debt\n",
      "       . collection\n",
      "  . Top bigrams:\n",
      "       . trying collect\n",
      "       . service xxxx\n",
      "# 'Money transfer, virtual currency, or money service':\n",
      "  . Top unigrams:\n",
      "       . coinbase\n",
      "       . money\n",
      "  . Top bigrams:\n",
      "       . xxxx coinbase\n",
      "       . money order\n",
      "# 'Money transfers':\n",
      "  . Top unigrams:\n",
      "       . transfer\n",
      "       . transaction\n",
      "  . Top bigrams:\n",
      "       . did inform\n",
      "       . 290 00\n",
      "# 'Mortgage':\n",
      "  . Top unigrams:\n",
      "       . mortgage\n",
      "       . escrow\n",
      "  . Top bigrams:\n",
      "       . mortgage payment\n",
      "       . escrow account\n",
      "# 'Other financial service':\n",
      "  . Top unigrams:\n",
      "       . computers\n",
      "       . ssi\n",
      "  . Top bigrams:\n",
      "       . xxxx fell\n",
      "       . gone xxxx\n",
      "# 'Payday loan':\n",
      "  . Top unigrams:\n",
      "       . payday\n",
      "       . proposed\n",
      "  . Top bigrams:\n",
      "       . payday loan\n",
      "       . loan did\n",
      "# 'Payday loan, title loan, or personal loan':\n",
      "  . Top unigrams:\n",
      "       . loan\n",
      "       . company\n",
      "  . Top bigrams:\n",
      "       . loan paid\n",
      "       . applied loan\n",
      "# 'Prepaid card':\n",
      "  . Top unigrams:\n",
      "       . rushcard\n",
      "       . purchase\n",
      "  . Top bigrams:\n",
      "       . make purchase\n",
      "       . gift card\n",
      "# 'Student loan':\n",
      "  . Top unigrams:\n",
      "       . navient\n",
      "       . loans\n",
      "  . Top bigrams:\n",
      "       . student loan\n",
      "       . student loans\n",
      "# 'Vehicle loan or lease':\n",
      "  . Top unigrams:\n",
      "       . gm\n",
      "       . santander\n",
      "  . Top bigrams:\n",
      "       . gm financial\n",
      "       . look account\n"
     ]
    }
   ],
   "source": [
    "model.fit(features, labels)\n",
    "N = 2\n",
    "for Product, category_id in sorted(category_to_id.items()):\n",
    "    indices = np.argsort(model.coef_[category_id])\n",
    "    feature_names = np.array(tfidf.get_feature_names())[indices]\n",
    "    unigrams = [v for v in reversed(feature_names) if len(v.split(' ')) == 1][:N]\n",
    "    bigrams = [v for v in reversed(feature_names) if len(v.split(' ')) == 2][:N]\n",
    "    print(\"# '{}':\".format(Product))\n",
    "    print(\"  . Top unigrams:\\n       . {}\".format('\\n       . '.join(unigrams)))\n",
    "    print(\"  . Top bigrams:\\n       . {}\".format('\\n       . '.join(bigrams)))"
   ]
  },
  {
   "cell_type": "code",
   "execution_count": 22,
   "metadata": {
    "ExecuteTime": {
     "end_time": "2019-01-08T16:32:18.842189Z",
     "start_time": "2019-01-08T16:32:18.837892Z"
    }
   },
   "outputs": [],
   "source": [
    "from sklearn import metrics\n",
    "#print(metrics.classification_report(y_test, y_pred, target_names=df['Product'].unique()))"
   ]
  },
  {
   "cell_type": "code",
   "execution_count": null,
   "metadata": {},
   "outputs": [],
   "source": []
  }
 ],
 "metadata": {
  "kernelspec": {
   "display_name": "Python 3",
   "language": "python",
   "name": "python3"
  },
  "language_info": {
   "codemirror_mode": {
    "name": "ipython",
    "version": 3
   },
   "file_extension": ".py",
   "mimetype": "text/x-python",
   "name": "python",
   "nbconvert_exporter": "python",
   "pygments_lexer": "ipython3",
   "version": "3.7.3"
  },
  "toc": {
   "base_numbering": 1,
   "nav_menu": {},
   "number_sections": true,
   "sideBar": true,
   "skip_h1_title": false,
   "title_cell": "Table of Contents",
   "title_sidebar": "Contents",
   "toc_cell": false,
   "toc_position": {},
   "toc_section_display": true,
   "toc_window_display": false
  }
 },
 "nbformat": 4,
 "nbformat_minor": 2
}
