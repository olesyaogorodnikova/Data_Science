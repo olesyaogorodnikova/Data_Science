{
 "cells": [
  {
   "cell_type": "markdown",
   "metadata": {},
   "source": [
    "## Word2vec and Classification together\n",
    "Very large data set of Stack Overflow questions and tags, available at \n",
    "https://storage.googleapis.com/tensorflow-workshop-examples/stack-overflow-data.csv"
   ]
  },
  {
   "cell_type": "code",
   "execution_count": 2,
   "metadata": {
    "ExecuteTime": {
     "end_time": "2019-01-07T16:41:22.479074Z",
     "start_time": "2019-01-07T16:41:22.050365Z"
    }
   },
   "outputs": [
    {
     "data": {
      "text/plain": [
       "'\\nhttps://github.com/susanli2016/NLP-with-Python/blob/master/Doc2Vec%20Consumer%20Complaint_3.ipynb\\n'"
      ]
     },
     "execution_count": 2,
     "metadata": {},
     "output_type": "execute_result"
    }
   ],
   "source": [
    "import pandas as pd\n",
    "import numpy as np\n",
    "from tqdm import tqdm\n",
    "tqdm.pandas(desc=\"progress-bar\")\n",
    "from gensim.models import Doc2Vec\n",
    "from sklearn import utils\n",
    "from sklearn.model_selection import train_test_split\n",
    "import gensim\n",
    "from sklearn.linear_model import LogisticRegression\n",
    "from gensim.models.doc2vec import TaggedDocument\n",
    "import re\n",
    "import seaborn as sns\n",
    "import matplotlib.pyplot as plt\n",
    "\n",
    "## to be removed from exercise but must be present in solution\n",
    "'''\n",
    "https://github.com/susanli2016/NLP-with-Python/blob/master/Doc2Vec%20Consumer%20Complaint_3.ipynb\n",
    "'''"
   ]
  },
  {
   "cell_type": "code",
   "execution_count": 3,
   "metadata": {
    "ExecuteTime": {
     "end_time": "2019-01-07T16:41:37.432580Z",
     "start_time": "2019-01-07T16:41:26.633564Z"
    }
   },
   "outputs": [
    {
     "name": "stderr",
     "output_type": "stream",
     "text": [
      "/Users/mousadak/anaconda3/envs/deep_learning/lib/python3.6/site-packages/IPython/core/interactiveshell.py:3020: DtypeWarning: Columns (4,5,6,11,16) have mixed types. Specify dtype option on import or set low_memory=False.\n",
      "  interactivity=interactivity, compiler=compiler, result=result)\n"
     ]
    },
    {
     "data": {
      "text/html": [
       "<div>\n",
       "<style scoped>\n",
       "    .dataframe tbody tr th:only-of-type {\n",
       "        vertical-align: middle;\n",
       "    }\n",
       "\n",
       "    .dataframe tbody tr th {\n",
       "        vertical-align: top;\n",
       "    }\n",
       "\n",
       "    .dataframe thead th {\n",
       "        text-align: right;\n",
       "    }\n",
       "</style>\n",
       "<table border=\"1\" class=\"dataframe\">\n",
       "  <thead>\n",
       "    <tr style=\"text-align: right;\">\n",
       "      <th></th>\n",
       "      <th>narrative</th>\n",
       "      <th>Product</th>\n",
       "    </tr>\n",
       "  </thead>\n",
       "  <tbody>\n",
       "    <tr>\n",
       "      <th>60</th>\n",
       "      <td>I am disputing this debt for XXXX XXXX that is...</td>\n",
       "      <td>Debt collection</td>\n",
       "    </tr>\n",
       "    <tr>\n",
       "      <th>91</th>\n",
       "      <td>Ok education credit management corporation XXX...</td>\n",
       "      <td>Debt collection</td>\n",
       "    </tr>\n",
       "    <tr>\n",
       "      <th>146</th>\n",
       "      <td>The Account from Ability Recovery Services has...</td>\n",
       "      <td>Credit reporting, credit repair services, or o...</td>\n",
       "    </tr>\n",
       "    <tr>\n",
       "      <th>171</th>\n",
       "      <td>I made cash &amp; check deposit at my banks atm on...</td>\n",
       "      <td>Checking or savings account</td>\n",
       "    </tr>\n",
       "    <tr>\n",
       "      <th>172</th>\n",
       "      <td>Monterey Collection is trying to collect on a ...</td>\n",
       "      <td>Debt collection</td>\n",
       "    </tr>\n",
       "    <tr>\n",
       "      <th>173</th>\n",
       "      <td>I was looking through my credit karma and see ...</td>\n",
       "      <td>Credit reporting, credit repair services, or o...</td>\n",
       "    </tr>\n",
       "    <tr>\n",
       "      <th>174</th>\n",
       "      <td>Hi, I am constantly being harassed by a compan...</td>\n",
       "      <td>Debt collection</td>\n",
       "    </tr>\n",
       "    <tr>\n",
       "      <th>187</th>\n",
       "      <td>I ATTENDED XXXX XXXX XXXX FOR A WHILE THEN COU...</td>\n",
       "      <td>Debt collection</td>\n",
       "    </tr>\n",
       "    <tr>\n",
       "      <th>189</th>\n",
       "      <td>First I received communications from Source RM...</td>\n",
       "      <td>Debt collection</td>\n",
       "    </tr>\n",
       "    <tr>\n",
       "      <th>208</th>\n",
       "      <td>On Friday XX/XX/18 I was called 6 times in a r...</td>\n",
       "      <td>Debt collection</td>\n",
       "    </tr>\n",
       "  </tbody>\n",
       "</table>\n",
       "</div>"
      ],
      "text/plain": [
       "                                             narrative  \\\n",
       "60   I am disputing this debt for XXXX XXXX that is...   \n",
       "91   Ok education credit management corporation XXX...   \n",
       "146  The Account from Ability Recovery Services has...   \n",
       "171  I made cash & check deposit at my banks atm on...   \n",
       "172  Monterey Collection is trying to collect on a ...   \n",
       "173  I was looking through my credit karma and see ...   \n",
       "174  Hi, I am constantly being harassed by a compan...   \n",
       "187  I ATTENDED XXXX XXXX XXXX FOR A WHILE THEN COU...   \n",
       "189  First I received communications from Source RM...   \n",
       "208  On Friday XX/XX/18 I was called 6 times in a r...   \n",
       "\n",
       "                                               Product  \n",
       "60                                     Debt collection  \n",
       "91                                     Debt collection  \n",
       "146  Credit reporting, credit repair services, or o...  \n",
       "171                        Checking or savings account  \n",
       "172                                    Debt collection  \n",
       "173  Credit reporting, credit repair services, or o...  \n",
       "174                                    Debt collection  \n",
       "187                                    Debt collection  \n",
       "189                                    Debt collection  \n",
       "208                                    Debt collection  "
      ]
     },
     "execution_count": 3,
     "metadata": {},
     "output_type": "execute_result"
    }
   ],
   "source": [
    "df = pd.read_csv('Consumer_Complaints.csv')\n",
    "df = df[['Consumer complaint narrative','Product']]\n",
    "df = df[pd.notnull(df['Consumer complaint narrative'])]\n",
    "df.rename(columns = {'Consumer complaint narrative':'narrative'}, inplace = True)\n",
    "df.head(10)\n"
   ]
  },
  {
   "cell_type": "code",
   "execution_count": 4,
   "metadata": {
    "ExecuteTime": {
     "end_time": "2019-01-07T16:41:41.450979Z",
     "start_time": "2019-01-07T16:41:41.428494Z"
    }
   },
   "outputs": [],
   "source": [
    "df = df.sample(frac = 0.01)"
   ]
  },
  {
   "cell_type": "code",
   "execution_count": 5,
   "metadata": {
    "ExecuteTime": {
     "end_time": "2019-01-07T16:41:41.870038Z",
     "start_time": "2019-01-07T16:41:41.865114Z"
    }
   },
   "outputs": [
    {
     "data": {
      "text/plain": [
       "(3546, 2)"
      ]
     },
     "execution_count": 5,
     "metadata": {},
     "output_type": "execute_result"
    }
   ],
   "source": [
    "df.shape\n"
   ]
  },
  {
   "cell_type": "code",
   "execution_count": 6,
   "metadata": {
    "ExecuteTime": {
     "end_time": "2019-01-07T16:41:42.678057Z",
     "start_time": "2019-01-07T16:41:42.674255Z"
    }
   },
   "outputs": [],
   "source": [
    "df.index = range(df.shape[0])"
   ]
  },
  {
   "cell_type": "code",
   "execution_count": 7,
   "metadata": {
    "ExecuteTime": {
     "end_time": "2019-01-07T16:41:43.229002Z",
     "start_time": "2019-01-07T16:41:43.170602Z"
    }
   },
   "outputs": [
    {
     "data": {
      "text/plain": [
       "706849"
      ]
     },
     "execution_count": 7,
     "metadata": {},
     "output_type": "execute_result"
    }
   ],
   "source": [
    "df['narrative'].apply(lambda x: len(x.split(' '))).sum()"
   ]
  },
  {
   "cell_type": "code",
   "execution_count": 8,
   "metadata": {
    "ExecuteTime": {
     "end_time": "2019-01-07T16:41:44.870329Z",
     "start_time": "2019-01-07T16:41:44.404784Z"
    }
   },
   "outputs": [
    {
     "data": {
      "image/png": "[encoded data removed]",
      "text/plain": [
       "<Figure size 864x288 with 1 Axes>"
      ]
     },
     "metadata": {
      "needs_background": "light"
     },
     "output_type": "display_data"
    }
   ],
   "source": [
    "cnt_pro = df['Product'].value_counts()\n",
    "\n",
    "plt.figure(figsize=(12,4))\n",
    "sns.barplot(cnt_pro.index, cnt_pro.values, alpha=0.8)\n",
    "plt.ylabel('Number of Occurrences', fontsize=12)\n",
    "plt.xlabel('Product', fontsize=12)\n",
    "plt.xticks(rotation=90)\n",
    "plt.show();"
   ]
  },
  {
   "cell_type": "markdown",
   "metadata": {},
   "source": [
    "The classes are imbalanced. However, a naive classifier that predicts everything to be Debt collection will only achieve over 20% accuracy.\n",
    "\n",
    "Let's have a look a few examples of complaint narrative and its associated product.\n"
   ]
  },
  {
   "cell_type": "code",
   "execution_count": 9,
   "metadata": {
    "ExecuteTime": {
     "end_time": "2019-01-07T16:41:47.525698Z",
     "start_time": "2019-01-07T16:41:47.520308Z"
    }
   },
   "outputs": [],
   "source": [
    "def print_complaint(index):\n",
    "    example = df[df.index == index][['narrative', 'Product']].values[0]\n",
    "    if len(example) > 0:\n",
    "        print(example[0])\n",
    "        print('Product:', example[1])\n"
   ]
  },
  {
   "cell_type": "code",
   "execution_count": 10,
   "metadata": {
    "ExecuteTime": {
     "end_time": "2019-01-07T16:41:47.980397Z",
     "start_time": "2019-01-07T16:41:47.971849Z"
    }
   },
   "outputs": [
    {
     "name": "stdout",
     "output_type": "stream",
     "text": [
      "I opened up a money market account at First Niagara Bank in XXXX XXXX CT on XXXX/XXXX/2016. I was told that the APY interest rate was 1.01 % based on the advertisement in the XXXX XXXX as well as a verbal discussion. There was no mention that the rate was related to compounding and this was confirmed verbally with the bank officer. And that taking out the interest monthly would not affect the rate that I was to receive. After 33 days of \" interest '', from XX/XX/XXXX to XX/XX/XXXX, I received not XXXX of 1.01 % but rather XXXX of 0.81 % and my printed statement says that my APY is now 0.81 % not the 1.01 % I was expecting. \n",
      "The interest I received was XXXX % LESS that I was expecting. The difference in the amount of money is not very much but First Niagara, in my opinion, lied to me with false advertisements and false verbal discussions, apparently to get me to put my money into a seemingly high interest money market account. Multiply this by XXXX customers and XXXX dollars and the amount of money they defrauded consumers could be very substantial. In my opinion, First Niagara deceived me and its customers and violated honest banking practices.\n",
      "Product: Bank account or service\n"
     ]
    }
   ],
   "source": [
    "print_complaint(0)"
   ]
  },
  {
   "cell_type": "markdown",
   "metadata": {},
   "source": [
    "## Text preprocessin"
   ]
  },
  {
   "cell_type": "code",
   "execution_count": 13,
   "metadata": {
    "ExecuteTime": {
     "end_time": "2019-01-07T16:43:57.227587Z",
     "start_time": "2019-01-07T16:43:57.221936Z"
    }
   },
   "outputs": [],
   "source": [
    "from bs4 import BeautifulSoup\n",
    "def cleanText(text):\n",
    "    text = BeautifulSoup(text, \"lxml\").text\n",
    "    text = re.sub(r'\\|\\|\\|', r' ', text) \n",
    "    text = re.sub(r'http\\S+', r'<URL>', text)\n",
    "    text = text.lower()\n",
    "    text = text.replace('x', '')\n",
    "    return text\n"
   ]
  },
  {
   "cell_type": "code",
   "execution_count": 14,
   "metadata": {
    "ExecuteTime": {
     "end_time": "2019-01-07T16:43:58.703219Z",
     "start_time": "2019-01-07T16:43:57.581753Z"
    }
   },
   "outputs": [
    {
     "data": {
      "text/plain": [
       "' ,  and eperian have allowed fraudulent attacks to my credit reports. i have lost more than {$100000.00}'"
      ]
     },
     "execution_count": 14,
     "metadata": {},
     "output_type": "execute_result"
    }
   ],
   "source": [
    "df['narrative'] = df['narrative'].apply(cleanText)\n",
    "df['narrative'][20]"
   ]
  },
  {
   "cell_type": "markdown",
   "metadata": {},
   "source": [
    "## Train test split"
   ]
  },
  {
   "cell_type": "code",
   "execution_count": 15,
   "metadata": {
    "ExecuteTime": {
     "end_time": "2019-01-07T16:43:59.783537Z",
     "start_time": "2019-01-07T16:43:59.773572Z"
    }
   },
   "outputs": [],
   "source": [
    "train, test = train_test_split(df, test_size=0.3, random_state=42)"
   ]
  },
  {
   "cell_type": "code",
   "execution_count": 22,
   "metadata": {
    "ExecuteTime": {
     "end_time": "2019-01-07T16:51:18.612766Z",
     "start_time": "2019-01-07T16:51:17.037038Z"
    }
   },
   "outputs": [
    {
     "name": "stdout",
     "output_type": "stream",
     "text": [
      "[nltk_data] Downloading package punkt to /Users/mousadak/nltk_data...\n",
      "[nltk_data]   Unzipping tokenizers/punkt.zip.\n"
     ]
    }
   ],
   "source": [
    "import nltk\n",
    "\n",
    "nltk.download('punkt')\n",
    "from nltk.corpus import stopwords\n",
    "def tokenize_text(text):\n",
    "    tokens = []\n",
    "    for sent in nltk.sent_tokenize(text):\n",
    "        for word in nltk.word_tokenize(sent):\n",
    "            if len(word) < 2:\n",
    "                continue\n",
    "            tokens.append(word.lower())\n",
    "    return tokens"
   ]
  },
  {
   "cell_type": "code",
   "execution_count": 23,
   "metadata": {
    "ExecuteTime": {
     "end_time": "2019-01-07T16:51:32.944078Z",
     "start_time": "2019-01-07T16:51:24.736745Z"
    }
   },
   "outputs": [],
   "source": [
    "train_tagged = train.apply(lambda r: TaggedDocument(words=tokenize_text(r['narrative']), tags=[r.Product]), axis=1)\n",
    "test_tagged = test.apply(lambda r: TaggedDocument(words=tokenize_text(r['narrative']), tags=[r.Product]), axis=1)"
   ]
  },
  {
   "cell_type": "markdown",
   "metadata": {},
   "source": [
    "This is what a training entry looks like - an example complaint narrative tagged by 'Credit reporting'."
   ]
  },
  {
   "cell_type": "code",
   "execution_count": 24,
   "metadata": {
    "ExecuteTime": {
     "end_time": "2019-01-07T16:51:36.693590Z",
     "start_time": "2019-01-07T16:51:36.688442Z"
    }
   },
   "outputs": [
    {
     "data": {
      "text/plain": [
       "TaggedDocument(words=['received', 'phone', 'call', 'from', 'and', 'told', 'that', 'they', 'were', 'attempting', 'to', 'collect', 'debt', 'from', 'bad', 'check', 'from', '2002.', 'representative', 'had', 'the', 'last', 'of', 'my', 'ss', 'and', 'my', 'address', 'was', 'told', 'that', 'with', 'fees', 'and', 'all', 'owed', '350.00', 'asked', 'if', 'there', 'was', 'an', 'office', 'could', 'come', 'to', 'and', 'pay', 'and', 'was', 'told', 'there', 'was', 'not', 'asked', 'where', 'could', 'mail', 'in', 'money', 'order', 'and', 'was', 'told', 'had', 'to', 'take', 'care', 'of', 'it', 'over', 'the', 'phone', 'and', 'if', 'did', 'not', 'legal', 'papers', 'would', 'be', 'filed', 'and', 'lawyers', 'would', 'get', 'involved', 'stated', 'that', 'was', 'not', 'comfortable', 'giving', 'any', 'account', 'information', 'over', 'the', 'phone', 'and', 'was', 'told', 'that', 'could', 'call', 'with', 'pre-paid', 'credit', 'card', 'and', 'pay', 'that', 'way', 'and', 'could', 'settle', 'the', 'debt', 'today', 'for', '200.00', 'was', 'also', 'told', 'that', 'after', 'settled', 'the', 'debt', 'would', 'be', 'mailed', 'letter', 'stating', 'that', 'the', 'issue', 'had', 'been', 'resolved', 'when', 'asked', 'for', 'case', 'number', 'was', 'told', 'the', 'system', 'had', 'just', 'crashed', 'and', 'could', 'call', 'back', 'later', 'for', 'the', 'number'], tags=['Debt collection'])"
      ]
     },
     "execution_count": 24,
     "metadata": {},
     "output_type": "execute_result"
    }
   ],
   "source": [
    "train_tagged.values[30]"
   ]
  },
  {
   "cell_type": "markdown",
   "metadata": {},
   "source": [
    "## Training the model\n",
    "\n",
    "We'll instantiate a Doc2Vec model-Distributed Bag of Words (DBOW). In the Word2Vec architecture, the two algorithm \n",
    "names are “continuous bag of words” (cbow) and “skip-gram” (sg); in the Doc2Vec architecture, the corresponding \n",
    "algorithms are “distributed bag of words” (dbow) and “distributed memory” (dm).\n",
    "\n",
    "## DBOW\n",
    "\n",
    "DBOW is the Doc2Vec model analogous to Skip-gram model in Word2Vec. \n",
    "The paragraph vectors are obtained by training a neural network on the task of predicting a \n",
    "probability distribution of words in a paragraph given a randomly-sampled word from the paragraph.\n",
    "\n",
    "Training a Doc2Vec model is rather straight forward in Gensim, we initialize the model and train for 30 epochs:\n",
    "\n",
    "We set the minimum word count to 2 in order to discard words with very few occurrences.\n"
   ]
  },
  {
   "cell_type": "code",
   "execution_count": 25,
   "metadata": {
    "ExecuteTime": {
     "end_time": "2019-01-07T16:52:26.818497Z",
     "start_time": "2019-01-07T16:52:26.815174Z"
    }
   },
   "outputs": [],
   "source": [
    "import multiprocessing\n",
    "\n",
    "cores = multiprocessing.cpu_count()\n"
   ]
  },
  {
   "cell_type": "code",
   "execution_count": 29,
   "metadata": {
    "ExecuteTime": {
     "end_time": "2019-01-07T16:53:08.199670Z",
     "start_time": "2019-01-07T16:53:07.867796Z"
    }
   },
   "outputs": [
    {
     "name": "stderr",
     "output_type": "stream",
     "text": [
      "100%|██████████| 2482/2482 [00:00<00:00, 1998131.00it/s]\n"
     ]
    },
    {
     "name": "stdout",
     "output_type": "stream",
     "text": [
      "CPU times: user 320 ms, sys: 9.45 ms, total: 329 ms\n",
      "Wall time: 327 ms\n"
     ]
    }
   ],
   "source": [
    "%%time\n",
    "model_dbow = Doc2Vec(dm=0, vector_size=300, negative=5, hs=0, min_count=2, sample = 0, workers=cores)\n",
    "model_dbow.build_vocab([x for x in tqdm(train_tagged.values)])\n"
   ]
  },
  {
   "cell_type": "code",
   "execution_count": 30,
   "metadata": {
    "ExecuteTime": {
     "end_time": "2019-01-07T16:53:31.459674Z",
     "start_time": "2019-01-07T16:53:22.933799Z"
    }
   },
   "outputs": [
    {
     "name": "stderr",
     "output_type": "stream",
     "text": [
      "100%|██████████| 2482/2482 [00:00<00:00, 1700189.86it/s]\n",
      "100%|██████████| 2482/2482 [00:00<00:00, 1536570.11it/s]\n",
      "100%|██████████| 2482/2482 [00:00<00:00, 1679345.46it/s]\n",
      "100%|██████████| 2482/2482 [00:00<00:00, 1650326.97it/s]\n",
      "100%|██████████| 2482/2482 [00:00<00:00, 1427236.43it/s]\n",
      "100%|██████████| 2482/2482 [00:00<00:00, 1896222.68it/s]\n",
      "100%|██████████| 2482/2482 [00:00<00:00, 1836025.14it/s]\n",
      "100%|██████████| 2482/2482 [00:00<00:00, 1785943.13it/s]\n",
      "100%|██████████| 2482/2482 [00:00<00:00, 1893119.21it/s]\n",
      "100%|██████████| 2482/2482 [00:00<00:00, 1296905.76it/s]\n",
      "100%|██████████| 2482/2482 [00:00<00:00, 1673675.65it/s]\n",
      "100%|██████████| 2482/2482 [00:00<00:00, 1766547.18it/s]\n",
      "100%|██████████| 2482/2482 [00:00<00:00, 1761465.74it/s]\n",
      "100%|██████████| 2482/2482 [00:00<00:00, 2012811.78it/s]\n",
      "100%|██████████| 2482/2482 [00:00<00:00, 982192.90it/s]\n",
      "100%|██████████| 2482/2482 [00:00<00:00, 1449695.38it/s]\n",
      "100%|██████████| 2482/2482 [00:00<00:00, 1879108.76it/s]\n",
      "100%|██████████| 2482/2482 [00:00<00:00, 1820931.00it/s]\n",
      "100%|██████████| 2482/2482 [00:00<00:00, 1325303.95it/s]\n",
      "100%|██████████| 2482/2482 [00:00<00:00, 1385080.17it/s]\n",
      "100%|██████████| 2482/2482 [00:00<00:00, 1487392.85it/s]\n",
      "100%|██████████| 2482/2482 [00:00<00:00, 1939318.65it/s]\n",
      "100%|██████████| 2482/2482 [00:00<00:00, 1932837.45it/s]\n",
      "100%|██████████| 2482/2482 [00:00<00:00, 1679074.60it/s]\n",
      "100%|██████████| 2482/2482 [00:00<00:00, 1502419.18it/s]\n",
      "100%|██████████| 2482/2482 [00:00<00:00, 1323114.20it/s]\n",
      "100%|██████████| 2482/2482 [00:00<00:00, 1860636.73it/s]\n",
      "100%|██████████| 2482/2482 [00:00<00:00, 1831825.19it/s]\n",
      "100%|██████████| 2482/2482 [00:00<00:00, 2024555.14it/s]\n",
      "100%|██████████| 2482/2482 [00:00<00:00, 1951314.44it/s]\n"
     ]
    },
    {
     "name": "stdout",
     "output_type": "stream",
     "text": [
      "CPU times: user 33.3 s, sys: 1.2 s, total: 34.6 s\n",
      "Wall time: 8.52 s\n"
     ]
    }
   ],
   "source": [
    "%%time\n",
    "for epoch in range(30):\n",
    "    model_dbow.train(\n",
    "        utils.shuffle([x for x in tqdm(train_tagged.values)]),\n",
    "        total_examples=len(train_tagged.values),\n",
    "        epochs=1)\n",
    "    model_dbow.alpha -= 0.002\n",
    "    model_dbow.min_alpha = model_dbow.alpha"
   ]
  },
  {
   "cell_type": "markdown",
   "metadata": {},
   "source": [
    "# Buliding the final vector feature for the classifier"
   ]
  },
  {
   "cell_type": "code",
   "execution_count": 31,
   "metadata": {
    "ExecuteTime": {
     "end_time": "2019-01-07T16:53:44.083356Z",
     "start_time": "2019-01-07T16:53:44.078307Z"
    }
   },
   "outputs": [],
   "source": [
    "def vec_for_learning(model, tagged_docs):\n",
    "    sents = tagged_docs.values\n",
    "    targets, regressors = zip(*[(doc.tags[0], model.infer_vector(doc.words, steps=20)) for doc in sents])\n",
    "    return targets, regressors"
   ]
  },
  {
   "cell_type": "code",
   "execution_count": 32,
   "metadata": {
    "ExecuteTime": {
     "end_time": "2019-01-07T16:54:03.289989Z",
     "start_time": "2019-01-07T16:53:45.229322Z"
    }
   },
   "outputs": [],
   "source": [
    "y_train, X_train = vec_for_learning(model_dbow, train_tagged)\n",
    "y_test, X_test = vec_for_learning(model_dbow, test_tagged)\n"
   ]
  },
  {
   "cell_type": "code",
   "execution_count": 33,
   "metadata": {
    "ExecuteTime": {
     "end_time": "2019-01-07T16:54:33.908281Z",
     "start_time": "2019-01-07T16:54:06.808877Z"
    }
   },
   "outputs": [
    {
     "name": "stderr",
     "output_type": "stream",
     "text": [
      "/Users/mousadak/anaconda3/envs/deep_learning/lib/python3.6/site-packages/sklearn/linear_model/logistic.py:433: FutureWarning: Default solver will be changed to 'lbfgs' in 0.22. Specify a solver to silence this warning.\n",
      "  FutureWarning)\n",
      "/Users/mousadak/anaconda3/envs/deep_learning/lib/python3.6/site-packages/sklearn/linear_model/logistic.py:460: FutureWarning: Default multi_class will be changed to 'auto' in 0.22. Specify the multi_class option to silence this warning.\n",
      "  \"this warning.\", FutureWarning)\n"
     ]
    }
   ],
   "source": [
    "logreg = LogisticRegression(n_jobs=1, C=1e5)\n",
    "logreg.fit(X_train, y_train)\n",
    "y_pred = logreg.predict(X_test)\n"
   ]
  },
  {
   "cell_type": "code",
   "execution_count": 34,
   "metadata": {
    "ExecuteTime": {
     "end_time": "2019-01-07T16:54:45.697739Z",
     "start_time": "2019-01-07T16:54:45.679510Z"
    }
   },
   "outputs": [
    {
     "name": "stdout",
     "output_type": "stream",
     "text": [
      "Testing accuracy 0.49624060150375937\n",
      "Testing F1 score: 0.47412584796854895\n"
     ]
    },
    {
     "name": "stderr",
     "output_type": "stream",
     "text": [
      "/Users/mousadak/anaconda3/envs/deep_learning/lib/python3.6/site-packages/sklearn/metrics/classification.py:1143: UndefinedMetricWarning: F-score is ill-defined and being set to 0.0 in labels with no predicted samples.\n",
      "  'precision', 'predicted', average, warn_for)\n"
     ]
    }
   ],
   "source": [
    "from sklearn.metrics import accuracy_score, f1_score\n",
    "\n",
    "print('Testing accuracy %s' % accuracy_score(y_test, y_pred))\n",
    "print('Testing F1 score: {}'.format(f1_score(y_test, y_pred, average='weighted')))\n",
    "\n"
   ]
  }
 ],
 "metadata": {
  "kernelspec": {
   "display_name": "Python [conda env:deep_learning]",
   "language": "python",
   "name": "conda-env-deep_learning-py"
  },
  "language_info": {
   "codemirror_mode": {
    "name": "ipython",
    "version": 3
   },
   "file_extension": ".py",
   "mimetype": "text/x-python",
   "name": "python",
   "nbconvert_exporter": "python",
   "pygments_lexer": "ipython3",
   "version": "3.6.6"
  },
  "toc": {
   "base_numbering": 1,
   "nav_menu": {},
   "number_sections": true,
   "sideBar": true,
   "skip_h1_title": false,
   "title_cell": "Table of Contents",
   "title_sidebar": "Contents",
   "toc_cell": false,
   "toc_position": {},
   "toc_section_display": true,
   "toc_window_display": false
  }
 },
 "nbformat": 4,
 "nbformat_minor": 2
}
